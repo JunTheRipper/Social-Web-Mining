{
 "cells": [
  {
   "cell_type": "markdown",
   "metadata": {
    "collapsed": true,
    "pycharm": {
     "name": "#%% md\n"
    }
   },
   "source": [
    "# 社交网络技术处理 —— 数据集模块（以丁香园数据集为例）\n",
    "\n",
    "## 0 准备工作\n",
    "\n",
    "在本次的相关技术领域，我们尝试对项目结构进行模块化，用json格式文件进行读取，大致流程如下\n",
    "\n",
    "先读一下 json"
   ]
  },
  {
   "cell_type": "code",
   "execution_count": 1,
   "metadata": {
    "pycharm": {
     "name": "#%%\n"
    }
   },
   "outputs": [
    {
     "data": {
      "text/plain": [
       "'核废水'"
      ]
     },
     "execution_count": 1,
     "metadata": {},
     "output_type": "execute_result"
    }
   ],
   "source": [
    "import json\n",
    "with open(\"intro.json\",\"r\",encoding=\"utf-8\") as f:\n",
    "    json_data = json.load(f)\n",
    "username = json_data['username']\n",
    "password = json_data['password']\n",
    "webdriver_path = json_data['chrome_driver_location']\n",
    "useremail = json_data['useremail']\n",
    "data_store_location = json_data['data_store_location']\n",
    "result_analyse_location = json_data['result_analyse_location']\n",
    "result_picture = json_data['result_picture']\n",
    "keyword = json_data['keyword']\n",
    "keyword"
   ]
  },
  {
   "cell_type": "markdown",
   "metadata": {},
   "source": [
    "## 读取数据\n",
    "\n",
    "数据链接来源： [https://github.com/BlankerL/DXY-COVID-19-Data/releases/tag/2021.01.23](https://github.com/BlankerL/DXY-COVID-19-Data/releases/tag/2021.01.23)\n",
    "\n",
    "对"
   ]
  }
 ],
 "metadata": {
  "kernelspec": {
   "display_name": "Python 3",
   "language": "python",
   "name": "python3"
  },
  "language_info": {
   "codemirror_mode": {
    "name": "ipython",
    "version": 3
   },
   "file_extension": ".py",
   "mimetype": "text/x-python",
   "name": "python",
   "nbconvert_exporter": "python",
   "pygments_lexer": "ipython3",
   "version": "3.8.5"
  }
 },
 "nbformat": 4,
 "nbformat_minor": 1
}
