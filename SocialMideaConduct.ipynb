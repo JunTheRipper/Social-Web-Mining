{
 "cells": [
  {
   "cell_type": "markdown",
   "metadata": {},
   "source": [
    "# 社交媒体网络技术处理 —— 社交网络评论/博客模块\n",
    "\n",
    "## 爬虫、数据预处理、词云图模块\n",
    "\n",
    "在本次的相关技术领域，我们尝试对项目结构进行模块化，用json格式文件进行读取，大致流程如下\n",
    "\n",
    "先读一下 json\n",
    "\n",
    "# 0 准备"
   ]
  },
  {
   "cell_type": "code",
   "execution_count": 2,
   "metadata": {
    "pycharm": {
     "name": "#%%\n"
    }
   },
   "outputs": [
    {
     "data": {
      "text/plain": [
       "'福岛 核'"
      ]
     },
     "execution_count": 2,
     "metadata": {},
     "output_type": "execute_result"
    }
   ],
   "source": [
    "import json\n",
    "with open(\"intro.json\",\"r\",encoding=\"utf-8\") as f:\n",
    "    json_data = json.load(f)\n",
    "username = json_data['username']\n",
    "password = json_data['password']\n",
    "webdriver_path = json_data['chrome_driver_location']\n",
    "useremail = json_data['useremail']\n",
    "data_store_location = json_data['data_store_location']\n",
    "result_analyse_location = json_data['result_analyse_location']\n",
    "result_picture = json_data['result_picture']\n",
    "keyword = json_data['keyword']\n",
    "keyword"
   ]
  },
  {
   "cell_type": "markdown",
   "metadata": {
    "pycharm": {
     "name": "#%% md\n"
    }
   },
   "source": [
    "## 1. 数据爬取\n",
    "\n",
    "可自行选定社交媒体网站，例如豆瓣，微博，知乎，微信公众号，今日头条等等，\n",
    "\n",
    "爬取小组选定分析主题相关的社交媒体文本评论数据（要求至少爬取10万条数据，请添加具体实现步骤、运行结果和相关截图）（1分）\n",
    "\n",
    "我们通过面向对象式写法实现跨模块的调用技术"
   ]
  },
  {
   "cell_type": "code",
   "execution_count": null,
   "metadata": {
    "pycharm": {
     "name": "#%%\n"
    }
   },
   "outputs": [],
   "source": [
    "from webSpyder.toutiaoSpyder import ToutiaoSpyder\n",
    "toutiao = ToutiaoSpyder(webdriver_path,keyword)\n",
    "toutiao.enter_key()\n",
    "toutiao.getSpyNews()\n",
    "toutiao.getSpyMicro()\n",
    "toutiao.store_mongoDB()\n",
    "\n",
    "# 知乎同理，进行数据获取时用到，爬取相关的评论和文章\n",
    "from webSpyder.zhihuSpyder import ZhiHuSpyder\n",
    "zhihu = ZhiHuSpyder(webdriver_path)\n",
    "zhihu.getComments()\n",
    "zhihu.getSpyContent()\n",
    "\n",
    "# 其他模型不再赘述"
   ]
  },
  {
   "cell_type": "markdown",
   "metadata": {
    "pycharm": {
     "name": "#%% md\n"
    }
   },
   "source": [
    "## 爬取数据预处理\n",
    "\n",
    "#### 1. 格式文本统一化\n",
    "\n",
    "我们的数据来源比较复杂，有来着知乎、头条、微博的数据，存储格式也大有不同，\n",
    "因此我们需要进行所有的数据归一化，同时执行相关的预处理操作\n",
    "\n",
    "预处理模块的代码参考dataProcessing.py ，包括内部的一系列情况"
   ]
  },
  {
   "cell_type": "code",
   "execution_count": 3,
   "metadata": {
    "pycharm": {
     "name": "#%%\n"
    }
   },
   "outputs": [
    {
     "name": "stdout",
     "output_type": "stream",
     "text": [
      "(43843, 12)\n",
      "(264000, 4)\n",
      "(55924, 13)\n",
      "whole raw data:  363767\n"
     ]
    }
   ],
   "source": [
    "import pandas as pd\n",
    "import dataProcessing as dp\n",
    "\n",
    "excelData = data_store_location+'/excelData'\n",
    "mongoData = data_store_location+'/mongoData'\n",
    "otherData = data_store_location+'/otherData'\n",
    "\n",
    "excel = dp.multi_excel_combine(excelData)\n",
    "mongo = dp.multi_csv_combine(mongoData)\n",
    "other = dp.multi_csv_combine(otherData)\n",
    "print(excel.shape)\n",
    "print(mongo.shape)\n",
    "print(other.shape)\n",
    "print(\"whole raw data: \",excel.shape[0]+mongo.shape[0]+other.shape[0])"
   ]
  },
  {
   "cell_type": "markdown",
   "metadata": {
    "pycharm": {
     "name": "#%% md\n"
    }
   },
   "source": [
    "可以看到未处理原始评论数据集有20w条左右，下面对这些数据进行处理整合"
   ]
  },
  {
   "cell_type": "code",
   "execution_count": 4,
   "metadata": {
    "pycharm": {
     "name": "#%%\n"
    }
   },
   "outputs": [
    {
     "data": {
      "text/html": [
       "<div>\n",
       "<style scoped>\n",
       "    .dataframe tbody tr th:only-of-type {\n",
       "        vertical-align: middle;\n",
       "    }\n",
       "\n",
       "    .dataframe tbody tr th {\n",
       "        vertical-align: top;\n",
       "    }\n",
       "\n",
       "    .dataframe thead th {\n",
       "        text-align: right;\n",
       "    }\n",
       "</style>\n",
       "<table border=\"1\" class=\"dataframe\">\n",
       "  <thead>\n",
       "    <tr style=\"text-align: right;\">\n",
       "      <th></th>\n",
       "      <th>author</th>\n",
       "      <th>content</th>\n",
       "      <th>time</th>\n",
       "    </tr>\n",
       "  </thead>\n",
       "  <tbody>\n",
       "    <tr>\n",
       "      <th>0</th>\n",
       "      <td>Alexliao-Taiwan</td>\n",
       "      <td>希望你平安@Greenbrothers：现在十分担心福岛核电站的核泄漏，最糟糕的情况核泄漏会...</td>\n",
       "      <td>2011年03月13日 23:38</td>\n",
       "    </tr>\n",
       "    <tr>\n",
       "      <th>1</th>\n",
       "      <td>成都商报</td>\n",
       "      <td>#聚焦日本地震#据日本新闻网报道，美国原子能委员会和美国能源部的一个专家小组今(13日)夜启...</td>\n",
       "      <td>2011年03月13日 23:29</td>\n",
       "    </tr>\n",
       "    <tr>\n",
       "      <th>2</th>\n",
       "      <td>东山讲坛</td>\n",
       "      <td>#东京~日本~地震~海啸~爆炸#中新网3月13日电 据日本新闻网报道，美国原子能委员会和美国...</td>\n",
       "      <td>2011年03月13日 23:21</td>\n",
       "    </tr>\n",
       "    <tr>\n",
       "      <th>3</th>\n",
       "      <td>长江日报</td>\n",
       "      <td>凤凰李淼：福岛核泄漏，日政府最初非常谨慎，公布信息很少，国民一度非常紧张。原子能保安院官员记...</td>\n",
       "      <td>2011年03月13日 23:11</td>\n",
       "    </tr>\n",
       "    <tr>\n",
       "      <th>4</th>\n",
       "      <td>酿青椒</td>\n",
       "      <td>福岛第一第二核电所属的东京电力社长出来向公众谢罪，说跟设备老化比起来，海啸才是使机械失效引发...</td>\n",
       "      <td>2011年03月13日 23:04</td>\n",
       "    </tr>\n",
       "    <tr>\n",
       "      <th>5</th>\n",
       "      <td>完美仙剑217</td>\n",
       "      <td>哎，日本这次，核泄漏，火山爆发，海啸……哎…………可怜的日本…………不知道这次是宫城县和福岛...</td>\n",
       "      <td>2011年03月13日 23:01</td>\n",
       "    </tr>\n",
       "    <tr>\n",
       "      <th>6</th>\n",
       "      <td>梓蒙2011</td>\n",
       "      <td>//@凤凰李淼: 福岛3号核电站随时可能爆炸。不过不是核反应堆爆炸，但即使同1号一样，是氢气...</td>\n",
       "      <td>2011年03月13日 22:56</td>\n",
       "    </tr>\n",
       "    <tr>\n",
       "      <th>7</th>\n",
       "      <td>梓蒙2011</td>\n",
       "      <td>//@凤凰李淼: 福岛核泄漏，日本政府最初调查非常谨慎，公布的信息很少，国民一度非常紧张。原...</td>\n",
       "      <td>2011年03月13日 22:52</td>\n",
       "    </tr>\n",
       "    <tr>\n",
       "      <th>8</th>\n",
       "      <td>微速报</td>\n",
       "      <td>美国原子能委员会和美国能源部专家小组13日晚启程赶赴日本，将协助日本政府处理福岛核电站的核泄...</td>\n",
       "      <td>2011年03月13日 22:50</td>\n",
       "    </tr>\n",
       "    <tr>\n",
       "      <th>9</th>\n",
       "      <td>Pug先生</td>\n",
       "      <td>日本核泄漏都慌妈逼啊？还记得1945年美国干了什么吗？美国佬给小日本丢了两颗原子弹！原子弹啊...</td>\n",
       "      <td>2011年03月17日 23:41</td>\n",
       "    </tr>\n",
       "  </tbody>\n",
       "</table>\n",
       "</div>"
      ],
      "text/plain": [
       "            author                                            content  \\\n",
       "0  Alexliao-Taiwan  希望你平安@Greenbrothers：现在十分担心福岛核电站的核泄漏，最糟糕的情况核泄漏会...   \n",
       "1             成都商报  #聚焦日本地震#据日本新闻网报道，美国原子能委员会和美国能源部的一个专家小组今(13日)夜启...   \n",
       "2             东山讲坛  #东京~日本~地震~海啸~爆炸#中新网3月13日电 据日本新闻网报道，美国原子能委员会和美国...   \n",
       "3             长江日报  凤凰李淼：福岛核泄漏，日政府最初非常谨慎，公布信息很少，国民一度非常紧张。原子能保安院官员记...   \n",
       "4              酿青椒  福岛第一第二核电所属的东京电力社长出来向公众谢罪，说跟设备老化比起来，海啸才是使机械失效引发...   \n",
       "5          完美仙剑217  哎，日本这次，核泄漏，火山爆发，海啸……哎…………可怜的日本…………不知道这次是宫城县和福岛...   \n",
       "6           梓蒙2011  //@凤凰李淼: 福岛3号核电站随时可能爆炸。不过不是核反应堆爆炸，但即使同1号一样，是氢气...   \n",
       "7           梓蒙2011  //@凤凰李淼: 福岛核泄漏，日本政府最初调查非常谨慎，公布的信息很少，国民一度非常紧张。原...   \n",
       "8              微速报  美国原子能委员会和美国能源部专家小组13日晚启程赶赴日本，将协助日本政府处理福岛核电站的核泄...   \n",
       "9            Pug先生  日本核泄漏都慌妈逼啊？还记得1945年美国干了什么吗？美国佬给小日本丢了两颗原子弹！原子弹啊...   \n",
       "\n",
       "                time  \n",
       "0  2011年03月13日 23:38  \n",
       "1  2011年03月13日 23:29  \n",
       "2  2011年03月13日 23:21  \n",
       "3  2011年03月13日 23:11  \n",
       "4  2011年03月13日 23:04  \n",
       "5  2011年03月13日 23:01  \n",
       "6  2011年03月13日 22:56  \n",
       "7  2011年03月13日 22:52  \n",
       "8  2011年03月13日 22:50  \n",
       "9  2011年03月17日 23:41  "
      ]
     },
     "execution_count": 4,
     "metadata": {},
     "output_type": "execute_result"
    }
   ],
   "source": [
    "# 集体去重,先处理微博的情况\n",
    "df_weibo_excel = dp.data_renameweibo(excel)\n",
    "df_weibo_other = dp.data_renameweibo(other)\n",
    "\n",
    "# 对excel和other下的微博数据集体抽取并合并起来\n",
    "dfA = dp.data_cut(df_weibo_excel)\n",
    "dfB = dp.data_cut(df_weibo_other)\n",
    "mg = dp.data_cut(mongo)\n",
    "\n",
    "dfAB = dp.multi_pd_combine(dfA, dfB)\n",
    "dfABC = dp.multi_pd_combine(dfAB, mg)\n",
    "dfABC.head(10)"
   ]
  },
  {
   "cell_type": "markdown",
   "metadata": {},
   "source": [
    "pandas中，isnull()是常用的缺失值查看方法：\n",
    "\n",
    "    df.isnull():查看所有数据是否为缺失值，返回bool值。True：缺失值；False：不是缺失值。\n",
    "    df.isnull().any():查看每个特征是否存在缺失值，返回bool值。\n",
    "    df.isnll().sum():返回每个特征中缺失值的具体数量。\n",
    "\n"
   ]
  },
  {
   "cell_type": "code",
   "execution_count": 5,
   "metadata": {
    "pycharm": {
     "name": "#%%\n"
    }
   },
   "outputs": [
    {
     "name": "stdout",
     "output_type": "stream",
     "text": [
      "author      465\n",
      "content    1876\n",
      "time          0\n",
      "dtype: int64\n"
     ]
    },
    {
     "data": {
      "text/html": [
       "<div>\n",
       "<style scoped>\n",
       "    .dataframe tbody tr th:only-of-type {\n",
       "        vertical-align: middle;\n",
       "    }\n",
       "\n",
       "    .dataframe tbody tr th {\n",
       "        vertical-align: top;\n",
       "    }\n",
       "\n",
       "    .dataframe thead th {\n",
       "        text-align: right;\n",
       "    }\n",
       "</style>\n",
       "<table border=\"1\" class=\"dataframe\">\n",
       "  <thead>\n",
       "    <tr style=\"text-align: right;\">\n",
       "      <th></th>\n",
       "      <th>author</th>\n",
       "      <th>content</th>\n",
       "      <th>time</th>\n",
       "    </tr>\n",
       "  </thead>\n",
       "  <tbody>\n",
       "    <tr>\n",
       "      <th>0</th>\n",
       "      <td>Alexliao-Taiwan</td>\n",
       "      <td>希望你平安@Greenbrothers：现在十分担心福岛核电站的核泄漏，最糟糕的情况核泄漏会...</td>\n",
       "      <td>2011年03月13日 23:38</td>\n",
       "    </tr>\n",
       "    <tr>\n",
       "      <th>1</th>\n",
       "      <td>成都商报</td>\n",
       "      <td>#聚焦日本地震#据日本新闻网报道，美国原子能委员会和美国能源部的一个专家小组今(13日)夜启...</td>\n",
       "      <td>2011年03月13日 23:29</td>\n",
       "    </tr>\n",
       "    <tr>\n",
       "      <th>2</th>\n",
       "      <td>东山讲坛</td>\n",
       "      <td>#东京~日本~地震~海啸~爆炸#中新网3月13日电 据日本新闻网报道，美国原子能委员会和美国...</td>\n",
       "      <td>2011年03月13日 23:21</td>\n",
       "    </tr>\n",
       "    <tr>\n",
       "      <th>3</th>\n",
       "      <td>长江日报</td>\n",
       "      <td>凤凰李淼：福岛核泄漏，日政府最初非常谨慎，公布信息很少，国民一度非常紧张。原子能保安院官员记...</td>\n",
       "      <td>2011年03月13日 23:11</td>\n",
       "    </tr>\n",
       "    <tr>\n",
       "      <th>4</th>\n",
       "      <td>酿青椒</td>\n",
       "      <td>福岛第一第二核电所属的东京电力社长出来向公众谢罪，说跟设备老化比起来，海啸才是使机械失效引发...</td>\n",
       "      <td>2011年03月13日 23:04</td>\n",
       "    </tr>\n",
       "    <tr>\n",
       "      <th>...</th>\n",
       "      <td>...</td>\n",
       "      <td>...</td>\n",
       "      <td>...</td>\n",
       "    </tr>\n",
       "    <tr>\n",
       "      <th>361421</th>\n",
       "      <td>知乎用户</td>\n",
       "      <td>我一个准备去加国留学的看完心里怕怕的 惜命~_~</td>\n",
       "      <td>2017-02-13</td>\n",
       "    </tr>\n",
       "    <tr>\n",
       "      <th>361422</th>\n",
       "      <td>L-清源</td>\n",
       "      <td>如果短期旅游有什么影响吗？</td>\n",
       "      <td>2017-02-13</td>\n",
       "    </tr>\n",
       "    <tr>\n",
       "      <th>361423</th>\n",
       "      <td>黄sir</td>\n",
       "      <td>这个……事实上答主春节刚从日本旅游回来，还买了些化妆品 〒▽〒 不过仅限于去东京以东。不过大...</td>\n",
       "      <td>2017-02-12</td>\n",
       "    </tr>\n",
       "    <tr>\n",
       "      <th>361424</th>\n",
       "      <td>Siqi Xia (作者)</td>\n",
       "      <td>天呐 请问哪些地方要注意不能去呢？我还准备四五月份去玩来着 去那玩还能吃海鲜那类吗？现在日本...</td>\n",
       "      <td>2017-02-12</td>\n",
       "    </tr>\n",
       "    <tr>\n",
       "      <th>361425</th>\n",
       "      <td>荷喵</td>\n",
       "      <td>好厉害的分析啊</td>\n",
       "      <td>2017-02-12</td>\n",
       "    </tr>\n",
       "  </tbody>\n",
       "</table>\n",
       "<p>361426 rows × 3 columns</p>\n",
       "</div>"
      ],
      "text/plain": [
       "                 author                                            content  \\\n",
       "0       Alexliao-Taiwan  希望你平安@Greenbrothers：现在十分担心福岛核电站的核泄漏，最糟糕的情况核泄漏会...   \n",
       "1                  成都商报  #聚焦日本地震#据日本新闻网报道，美国原子能委员会和美国能源部的一个专家小组今(13日)夜启...   \n",
       "2                  东山讲坛  #东京~日本~地震~海啸~爆炸#中新网3月13日电 据日本新闻网报道，美国原子能委员会和美国...   \n",
       "3                  长江日报  凤凰李淼：福岛核泄漏，日政府最初非常谨慎，公布信息很少，国民一度非常紧张。原子能保安院官员记...   \n",
       "4                   酿青椒  福岛第一第二核电所属的东京电力社长出来向公众谢罪，说跟设备老化比起来，海啸才是使机械失效引发...   \n",
       "...                 ...                                                ...   \n",
       "361421             知乎用户                           我一个准备去加国留学的看完心里怕怕的 惜命~_~   \n",
       "361422             L-清源                                      如果短期旅游有什么影响吗？   \n",
       "361423             黄sir  这个……事实上答主春节刚从日本旅游回来，还买了些化妆品 〒▽〒 不过仅限于去东京以东。不过大...   \n",
       "361424   Siqi Xia (作者)   天呐 请问哪些地方要注意不能去呢？我还准备四五月份去玩来着 去那玩还能吃海鲜那类吗？现在日本...   \n",
       "361425               荷喵                                            好厉害的分析啊   \n",
       "\n",
       "                     time  \n",
       "0       2011年03月13日 23:38  \n",
       "1       2011年03月13日 23:29  \n",
       "2       2011年03月13日 23:21  \n",
       "3       2011年03月13日 23:11  \n",
       "4       2011年03月13日 23:04  \n",
       "...                   ...  \n",
       "361421         2017-02-13  \n",
       "361422         2017-02-13  \n",
       "361423         2017-02-12  \n",
       "361424         2017-02-12  \n",
       "361425         2017-02-12  \n",
       "\n",
       "[361426 rows x 3 columns]"
      ]
     },
     "execution_count": 5,
     "metadata": {},
     "output_type": "execute_result"
    }
   ],
   "source": [
    "dp.show_nan_data(dfABC)\n",
    "\n",
    "dfABC=dfABC.dropna(axis=0, subset= ['content']).dropna(axis=0,subset=['author'])\n",
    "dfABC.reset_index(drop=True,inplace=True)#drop=True：删除原行索引；inplace=True:在数据上进行更新\n",
    "\n",
    "dfABC"
   ]
  },
  {
   "cell_type": "code",
   "execution_count": 6,
   "metadata": {},
   "outputs": [
    {
     "name": "stdout",
     "output_type": "stream",
     "text": [
      "author     0\n",
      "content    0\n",
      "time       0\n",
      "dtype: int64\n"
     ]
    }
   ],
   "source": [
    "dp.show_nan_data(dfABC)"
   ]
  },
  {
   "cell_type": "code",
   "execution_count": 7,
   "metadata": {},
   "outputs": [
    {
     "data": {
      "text/html": [
       "<div>\n",
       "<style scoped>\n",
       "    .dataframe tbody tr th:only-of-type {\n",
       "        vertical-align: middle;\n",
       "    }\n",
       "\n",
       "    .dataframe tbody tr th {\n",
       "        vertical-align: top;\n",
       "    }\n",
       "\n",
       "    .dataframe thead th {\n",
       "        text-align: right;\n",
       "    }\n",
       "</style>\n",
       "<table border=\"1\" class=\"dataframe\">\n",
       "  <thead>\n",
       "    <tr style=\"text-align: right;\">\n",
       "      <th></th>\n",
       "      <th>author</th>\n",
       "      <th>content</th>\n",
       "      <th>time</th>\n",
       "    </tr>\n",
       "  </thead>\n",
       "  <tbody>\n",
       "    <tr>\n",
       "      <th>0</th>\n",
       "      <td>Alexliao-Taiwan</td>\n",
       "      <td>希望你平安@Greenbrothers：现在十分担心福岛核电站的核泄漏，最糟糕的情况核泄漏会...</td>\n",
       "      <td>2011年03月13日 23:38</td>\n",
       "    </tr>\n",
       "    <tr>\n",
       "      <th>1</th>\n",
       "      <td>成都商报</td>\n",
       "      <td>#聚焦日本地震#据日本新闻网报道，美国原子能委员会和美国能源部的一个专家小组今(13日)夜启...</td>\n",
       "      <td>2011年03月13日 23:29</td>\n",
       "    </tr>\n",
       "    <tr>\n",
       "      <th>2</th>\n",
       "      <td>东山讲坛</td>\n",
       "      <td>#东京~日本~地震~海啸~爆炸#中新网3月13日电 据日本新闻网报道，美国原子能委员会和美国...</td>\n",
       "      <td>2011年03月13日 23:21</td>\n",
       "    </tr>\n",
       "    <tr>\n",
       "      <th>3</th>\n",
       "      <td>长江日报</td>\n",
       "      <td>凤凰李淼：福岛核泄漏，日政府最初非常谨慎，公布信息很少，国民一度非常紧张。原子能保安院官员记...</td>\n",
       "      <td>2011年03月13日 23:11</td>\n",
       "    </tr>\n",
       "    <tr>\n",
       "      <th>4</th>\n",
       "      <td>酿青椒</td>\n",
       "      <td>福岛第一第二核电所属的东京电力社长出来向公众谢罪，说跟设备老化比起来，海啸才是使机械失效引发...</td>\n",
       "      <td>2011年03月13日 23:04</td>\n",
       "    </tr>\n",
       "    <tr>\n",
       "      <th>...</th>\n",
       "      <td>...</td>\n",
       "      <td>...</td>\n",
       "      <td>...</td>\n",
       "    </tr>\n",
       "    <tr>\n",
       "      <th>361421</th>\n",
       "      <td>知乎用户</td>\n",
       "      <td>我一个准备去加国留学的看完心里怕怕的 惜命~_~</td>\n",
       "      <td>2017-02-13</td>\n",
       "    </tr>\n",
       "    <tr>\n",
       "      <th>361422</th>\n",
       "      <td>L-清源</td>\n",
       "      <td>如果短期旅游有什么影响吗？</td>\n",
       "      <td>2017-02-13</td>\n",
       "    </tr>\n",
       "    <tr>\n",
       "      <th>361423</th>\n",
       "      <td>黄sir</td>\n",
       "      <td>这个……事实上答主春节刚从日本旅游回来，还买了些化妆品 〒▽〒 不过仅限于去东京以东。不过大...</td>\n",
       "      <td>2017-02-12</td>\n",
       "    </tr>\n",
       "    <tr>\n",
       "      <th>361424</th>\n",
       "      <td>Siqi Xia (作者)</td>\n",
       "      <td>天呐 请问哪些地方要注意不能去呢？我还准备四五月份去玩来着 去那玩还能吃海鲜那类吗？现在日本...</td>\n",
       "      <td>2017-02-12</td>\n",
       "    </tr>\n",
       "    <tr>\n",
       "      <th>361425</th>\n",
       "      <td>荷喵</td>\n",
       "      <td>好厉害的分析啊</td>\n",
       "      <td>2017-02-12</td>\n",
       "    </tr>\n",
       "  </tbody>\n",
       "</table>\n",
       "<p>361426 rows × 3 columns</p>\n",
       "</div>"
      ],
      "text/plain": [
       "                 author                                            content  \\\n",
       "0       Alexliao-Taiwan  希望你平安@Greenbrothers：现在十分担心福岛核电站的核泄漏，最糟糕的情况核泄漏会...   \n",
       "1                  成都商报  #聚焦日本地震#据日本新闻网报道，美国原子能委员会和美国能源部的一个专家小组今(13日)夜启...   \n",
       "2                  东山讲坛  #东京~日本~地震~海啸~爆炸#中新网3月13日电 据日本新闻网报道，美国原子能委员会和美国...   \n",
       "3                  长江日报  凤凰李淼：福岛核泄漏，日政府最初非常谨慎，公布信息很少，国民一度非常紧张。原子能保安院官员记...   \n",
       "4                   酿青椒  福岛第一第二核电所属的东京电力社长出来向公众谢罪，说跟设备老化比起来，海啸才是使机械失效引发...   \n",
       "...                 ...                                                ...   \n",
       "361421             知乎用户                           我一个准备去加国留学的看完心里怕怕的 惜命~_~   \n",
       "361422             L-清源                                      如果短期旅游有什么影响吗？   \n",
       "361423             黄sir  这个……事实上答主春节刚从日本旅游回来，还买了些化妆品 〒▽〒 不过仅限于去东京以东。不过大...   \n",
       "361424   Siqi Xia (作者)   天呐 请问哪些地方要注意不能去呢？我还准备四五月份去玩来着 去那玩还能吃海鲜那类吗？现在日本...   \n",
       "361425               荷喵                                            好厉害的分析啊   \n",
       "\n",
       "                     time  \n",
       "0       2011年03月13日 23:38  \n",
       "1       2011年03月13日 23:29  \n",
       "2       2011年03月13日 23:21  \n",
       "3       2011年03月13日 23:11  \n",
       "4       2011年03月13日 23:04  \n",
       "...                   ...  \n",
       "361421         2017-02-13  \n",
       "361422         2017-02-13  \n",
       "361423         2017-02-12  \n",
       "361424         2017-02-12  \n",
       "361425         2017-02-12  \n",
       "\n",
       "[361426 rows x 3 columns]"
      ]
     },
     "execution_count": 7,
     "metadata": {},
     "output_type": "execute_result"
    }
   ],
   "source": [
    "dfABC"
   ]
  },
  {
   "cell_type": "markdown",
   "metadata": {},
   "source": [
    "可以看到缺失值已经被处理了，下面我们尝试去除重复值\n",
    "\n",
    "pandas中，除去重复值的常用方法为drop_duplicate，其基本格式如下：\n",
    "\n",
    "**DataFrame.drop_duplicates(subset=None, keep='first', inplace=False)：**\n",
    "\n",
    "关键参数详解：\n",
    "\n",
    "    subset:用来指定特定的列，默认所有列；\n",
    "    keep: {'first', 'last', False}。默认值为'first'，用于删除重复项并保留第一次出现的项；\n",
    "    inplace:是直接在原来数据上修改还是保留一个副本，默认是False"
   ]
  },
  {
   "cell_type": "code",
   "execution_count": null,
   "metadata": {},
   "outputs": [],
   "source": []
  },
  {
   "cell_type": "code",
   "execution_count": 8,
   "metadata": {},
   "outputs": [
    {
     "data": {
      "text/html": [
       "<div>\n",
       "<style scoped>\n",
       "    .dataframe tbody tr th:only-of-type {\n",
       "        vertical-align: middle;\n",
       "    }\n",
       "\n",
       "    .dataframe tbody tr th {\n",
       "        vertical-align: top;\n",
       "    }\n",
       "\n",
       "    .dataframe thead th {\n",
       "        text-align: right;\n",
       "    }\n",
       "</style>\n",
       "<table border=\"1\" class=\"dataframe\">\n",
       "  <thead>\n",
       "    <tr style=\"text-align: right;\">\n",
       "      <th></th>\n",
       "      <th>author</th>\n",
       "      <th>content</th>\n",
       "      <th>time</th>\n",
       "    </tr>\n",
       "  </thead>\n",
       "  <tbody>\n",
       "    <tr>\n",
       "      <th>0</th>\n",
       "      <td>Alexliao-Taiwan</td>\n",
       "      <td>希望你平安@Greenbrothers：现在十分担心福岛核电站的核泄漏，最糟糕的情况核泄漏会...</td>\n",
       "      <td>2011年03月13日 23:38</td>\n",
       "    </tr>\n",
       "    <tr>\n",
       "      <th>1</th>\n",
       "      <td>成都商报</td>\n",
       "      <td>#聚焦日本地震#据日本新闻网报道，美国原子能委员会和美国能源部的一个专家小组今(13日)夜启...</td>\n",
       "      <td>2011年03月13日 23:29</td>\n",
       "    </tr>\n",
       "    <tr>\n",
       "      <th>2</th>\n",
       "      <td>东山讲坛</td>\n",
       "      <td>#东京~日本~地震~海啸~爆炸#中新网3月13日电 据日本新闻网报道，美国原子能委员会和美国...</td>\n",
       "      <td>2011年03月13日 23:21</td>\n",
       "    </tr>\n",
       "    <tr>\n",
       "      <th>3</th>\n",
       "      <td>长江日报</td>\n",
       "      <td>凤凰李淼：福岛核泄漏，日政府最初非常谨慎，公布信息很少，国民一度非常紧张。原子能保安院官员记...</td>\n",
       "      <td>2011年03月13日 23:11</td>\n",
       "    </tr>\n",
       "    <tr>\n",
       "      <th>4</th>\n",
       "      <td>酿青椒</td>\n",
       "      <td>福岛第一第二核电所属的东京电力社长出来向公众谢罪，说跟设备老化比起来，海啸才是使机械失效引发...</td>\n",
       "      <td>2011年03月13日 23:04</td>\n",
       "    </tr>\n",
       "    <tr>\n",
       "      <th>...</th>\n",
       "      <td>...</td>\n",
       "      <td>...</td>\n",
       "      <td>...</td>\n",
       "    </tr>\n",
       "    <tr>\n",
       "      <th>101088</th>\n",
       "      <td>知乎用户</td>\n",
       "      <td>我一个准备去加国留学的看完心里怕怕的 惜命~_~</td>\n",
       "      <td>2017-02-13</td>\n",
       "    </tr>\n",
       "    <tr>\n",
       "      <th>101089</th>\n",
       "      <td>L-清源</td>\n",
       "      <td>如果短期旅游有什么影响吗？</td>\n",
       "      <td>2017-02-13</td>\n",
       "    </tr>\n",
       "    <tr>\n",
       "      <th>101090</th>\n",
       "      <td>黄sir</td>\n",
       "      <td>这个……事实上答主春节刚从日本旅游回来，还买了些化妆品 〒▽〒 不过仅限于去东京以东。不过大...</td>\n",
       "      <td>2017-02-12</td>\n",
       "    </tr>\n",
       "    <tr>\n",
       "      <th>101091</th>\n",
       "      <td>Siqi Xia (作者)</td>\n",
       "      <td>天呐 请问哪些地方要注意不能去呢？我还准备四五月份去玩来着 去那玩还能吃海鲜那类吗？现在日本...</td>\n",
       "      <td>2017-02-12</td>\n",
       "    </tr>\n",
       "    <tr>\n",
       "      <th>101092</th>\n",
       "      <td>荷喵</td>\n",
       "      <td>好厉害的分析啊</td>\n",
       "      <td>2017-02-12</td>\n",
       "    </tr>\n",
       "  </tbody>\n",
       "</table>\n",
       "<p>101093 rows × 3 columns</p>\n",
       "</div>"
      ],
      "text/plain": [
       "                 author                                            content  \\\n",
       "0       Alexliao-Taiwan  希望你平安@Greenbrothers：现在十分担心福岛核电站的核泄漏，最糟糕的情况核泄漏会...   \n",
       "1                  成都商报  #聚焦日本地震#据日本新闻网报道，美国原子能委员会和美国能源部的一个专家小组今(13日)夜启...   \n",
       "2                  东山讲坛  #东京~日本~地震~海啸~爆炸#中新网3月13日电 据日本新闻网报道，美国原子能委员会和美国...   \n",
       "3                  长江日报  凤凰李淼：福岛核泄漏，日政府最初非常谨慎，公布信息很少，国民一度非常紧张。原子能保安院官员记...   \n",
       "4                   酿青椒  福岛第一第二核电所属的东京电力社长出来向公众谢罪，说跟设备老化比起来，海啸才是使机械失效引发...   \n",
       "...                 ...                                                ...   \n",
       "101088             知乎用户                           我一个准备去加国留学的看完心里怕怕的 惜命~_~   \n",
       "101089             L-清源                                      如果短期旅游有什么影响吗？   \n",
       "101090             黄sir  这个……事实上答主春节刚从日本旅游回来，还买了些化妆品 〒▽〒 不过仅限于去东京以东。不过大...   \n",
       "101091   Siqi Xia (作者)   天呐 请问哪些地方要注意不能去呢？我还准备四五月份去玩来着 去那玩还能吃海鲜那类吗？现在日本...   \n",
       "101092               荷喵                                            好厉害的分析啊   \n",
       "\n",
       "                     time  \n",
       "0       2011年03月13日 23:38  \n",
       "1       2011年03月13日 23:29  \n",
       "2       2011年03月13日 23:21  \n",
       "3       2011年03月13日 23:11  \n",
       "4       2011年03月13日 23:04  \n",
       "...                   ...  \n",
       "101088         2017-02-13  \n",
       "101089         2017-02-13  \n",
       "101090         2017-02-12  \n",
       "101091         2017-02-12  \n",
       "101092         2017-02-12  \n",
       "\n",
       "[101093 rows x 3 columns]"
      ]
     },
     "execution_count": 8,
     "metadata": {},
     "output_type": "execute_result"
    }
   ],
   "source": [
    "# 测试样例文档\n",
    "dfN = dfABC.drop_duplicates(['content', 'author'],keep='last')\n",
    "dfN.reset_index(drop=True,inplace=True)#drop=True：删除原行索引；inplace=True:在数据上进行更新\n",
    "\n",
    "dfN"
   ]
  },
  {
   "cell_type": "code",
   "execution_count": 9,
   "metadata": {},
   "outputs": [
    {
     "data": {
      "text/html": [
       "<div>\n",
       "<style scoped>\n",
       "    .dataframe tbody tr th:only-of-type {\n",
       "        vertical-align: middle;\n",
       "    }\n",
       "\n",
       "    .dataframe tbody tr th {\n",
       "        vertical-align: top;\n",
       "    }\n",
       "\n",
       "    .dataframe thead th {\n",
       "        text-align: right;\n",
       "    }\n",
       "</style>\n",
       "<table border=\"1\" class=\"dataframe\">\n",
       "  <thead>\n",
       "    <tr style=\"text-align: right;\">\n",
       "      <th></th>\n",
       "      <th>author</th>\n",
       "      <th>content</th>\n",
       "      <th>time</th>\n",
       "    </tr>\n",
       "  </thead>\n",
       "  <tbody>\n",
       "    <tr>\n",
       "      <th>88321</th>\n",
       "      <td>Jc.L</td>\n",
       "      <td>太生动了 这个举例</td>\n",
       "      <td>2017-02-12</td>\n",
       "    </tr>\n",
       "    <tr>\n",
       "      <th>98792</th>\n",
       "      <td>Kimiziduli</td>\n",
       "      <td>有个傻瓜问题...为什么不用钨...钨的熔点不是3000多度，放置在压力容器或者安全壳最下方...</td>\n",
       "      <td>2017-02-12</td>\n",
       "    </tr>\n",
       "    <tr>\n",
       "      <th>99275</th>\n",
       "      <td>知乎用户</td>\n",
       "      <td>一篇撕逼好文，小的们，撕起来</td>\n",
       "      <td>2017-02-12</td>\n",
       "    </tr>\n",
       "    <tr>\n",
       "      <th>99340</th>\n",
       "      <td>彭子璇</td>\n",
       "      <td>添一句。切尔诺贝利事件时，面对人类第一次重大的核事故，很多苏联人并不清楚切尔诺贝利的危害。所...</td>\n",
       "      <td>2017-02-12</td>\n",
       "    </tr>\n",
       "    <tr>\n",
       "      <th>99341</th>\n",
       "      <td>彭子璇</td>\n",
       "      <td>谁知道切尔诺贝利必然对解体起了影响，但是谁都知道苏联本身就是多民族国家。并且是红色阵营的老大...</td>\n",
       "      <td>2017-02-12</td>\n",
       "    </tr>\n",
       "    <tr>\n",
       "      <th>...</th>\n",
       "      <td>...</td>\n",
       "      <td>...</td>\n",
       "      <td>...</td>\n",
       "    </tr>\n",
       "    <tr>\n",
       "      <th>100705</th>\n",
       "      <td>Newtonny</td>\n",
       "      <td>mark</td>\n",
       "      <td>2017-02-12</td>\n",
       "    </tr>\n",
       "    <tr>\n",
       "      <th>100706</th>\n",
       "      <td>克鲁格</td>\n",
       "      <td>真是可怕!</td>\n",
       "      <td>2017-02-12</td>\n",
       "    </tr>\n",
       "    <tr>\n",
       "      <th>101090</th>\n",
       "      <td>黄sir</td>\n",
       "      <td>这个……事实上答主春节刚从日本旅游回来，还买了些化妆品 〒▽〒 不过仅限于去东京以东。不过大...</td>\n",
       "      <td>2017-02-12</td>\n",
       "    </tr>\n",
       "    <tr>\n",
       "      <th>101091</th>\n",
       "      <td>Siqi Xia (作者)</td>\n",
       "      <td>天呐 请问哪些地方要注意不能去呢？我还准备四五月份去玩来着 去那玩还能吃海鲜那类吗？现在日本...</td>\n",
       "      <td>2017-02-12</td>\n",
       "    </tr>\n",
       "    <tr>\n",
       "      <th>101092</th>\n",
       "      <td>荷喵</td>\n",
       "      <td>好厉害的分析啊</td>\n",
       "      <td>2017-02-12</td>\n",
       "    </tr>\n",
       "  </tbody>\n",
       "</table>\n",
       "<p>62 rows × 3 columns</p>\n",
       "</div>"
      ],
      "text/plain": [
       "                author                                            content  \\\n",
       "88321             Jc.L                                          太生动了 这个举例   \n",
       "98792       Kimiziduli  有个傻瓜问题...为什么不用钨...钨的熔点不是3000多度，放置在压力容器或者安全壳最下方...   \n",
       "99275             知乎用户                                     一篇撕逼好文，小的们，撕起来   \n",
       "99340              彭子璇  添一句。切尔诺贝利事件时，面对人类第一次重大的核事故，很多苏联人并不清楚切尔诺贝利的危害。所...   \n",
       "99341              彭子璇  谁知道切尔诺贝利必然对解体起了影响，但是谁都知道苏联本身就是多民族国家。并且是红色阵营的老大...   \n",
       "...                ...                                                ...   \n",
       "100705        Newtonny                                               mark   \n",
       "100706             克鲁格                                              真是可怕!   \n",
       "101090            黄sir  这个……事实上答主春节刚从日本旅游回来，还买了些化妆品 〒▽〒 不过仅限于去东京以东。不过大...   \n",
       "101091  Siqi Xia (作者)   天呐 请问哪些地方要注意不能去呢？我还准备四五月份去玩来着 去那玩还能吃海鲜那类吗？现在日本...   \n",
       "101092              荷喵                                            好厉害的分析啊   \n",
       "\n",
       "              time  \n",
       "88321   2017-02-12  \n",
       "98792   2017-02-12  \n",
       "99275   2017-02-12  \n",
       "99340   2017-02-12  \n",
       "99341   2017-02-12  \n",
       "...            ...  \n",
       "100705  2017-02-12  \n",
       "100706  2017-02-12  \n",
       "101090  2017-02-12  \n",
       "101091  2017-02-12  \n",
       "101092  2017-02-12  \n",
       "\n",
       "[62 rows x 3 columns]"
      ]
     },
     "execution_count": 9,
     "metadata": {},
     "output_type": "execute_result"
    }
   ],
   "source": [
    "dfN.loc[dfN['time']=='2017-02-12']"
   ]
  },
  {
   "cell_type": "markdown",
   "metadata": {},
   "source": [
    "### 无效符号去除"
   ]
  },
  {
   "cell_type": "markdown",
   "metadata": {},
   "source": [
    "下面进行去除或替换一些无效或不需要的信息，比如特殊字符、标点符号等。\n",
    "请注意： 由于可能部分知乎的数据可能比较特殊，如“？？？？”这类的评论，去掉符号以后只有空的值了，因此需要再进行一次预处理，即再去掉横向空值，如果没有就OK"
   ]
  },
  {
   "cell_type": "code",
   "execution_count": 10,
   "metadata": {},
   "outputs": [
    {
     "name": "stderr",
     "output_type": "stream",
     "text": [
      "<ipython-input-10-193a5cac010d>:1: SettingWithCopyWarning: \n",
      "A value is trying to be set on a copy of a slice from a DataFrame.\n",
      "Try using .loc[row_indexer,col_indexer] = value instead\n",
      "\n",
      "See the caveats in the documentation: https://pandas.pydata.org/pandas-docs/stable/user_guide/indexing.html#returning-a-view-versus-a-copy\n",
      "  dfN['content'] = dfN['content'].str.replace(r'[^\\w]+', '')\n"
     ]
    },
    {
     "data": {
      "text/html": [
       "<div>\n",
       "<style scoped>\n",
       "    .dataframe tbody tr th:only-of-type {\n",
       "        vertical-align: middle;\n",
       "    }\n",
       "\n",
       "    .dataframe tbody tr th {\n",
       "        vertical-align: top;\n",
       "    }\n",
       "\n",
       "    .dataframe thead th {\n",
       "        text-align: right;\n",
       "    }\n",
       "</style>\n",
       "<table border=\"1\" class=\"dataframe\">\n",
       "  <thead>\n",
       "    <tr style=\"text-align: right;\">\n",
       "      <th></th>\n",
       "      <th>author</th>\n",
       "      <th>content</th>\n",
       "      <th>time</th>\n",
       "    </tr>\n",
       "  </thead>\n",
       "  <tbody>\n",
       "    <tr>\n",
       "      <th>0</th>\n",
       "      <td>Alexliao-Taiwan</td>\n",
       "      <td>希望你平安Greenbrothers现在十分担心福岛核电站的核泄漏最糟糕的情况核泄漏会波及到...</td>\n",
       "      <td>2011年03月13日 23:38</td>\n",
       "    </tr>\n",
       "    <tr>\n",
       "      <th>1</th>\n",
       "      <td>成都商报</td>\n",
       "      <td>聚焦日本地震据日本新闻网报道美国原子能委员会和美国能源部的一个专家小组今13日夜启程赶来日本...</td>\n",
       "      <td>2011年03月13日 23:29</td>\n",
       "    </tr>\n",
       "    <tr>\n",
       "      <th>2</th>\n",
       "      <td>东山讲坛</td>\n",
       "      <td>东京日本地震海啸爆炸中新网3月13日电据日本新闻网报道美国原子能委员会和美国能源部的一个专家...</td>\n",
       "      <td>2011年03月13日 23:21</td>\n",
       "    </tr>\n",
       "    <tr>\n",
       "      <th>3</th>\n",
       "      <td>长江日报</td>\n",
       "      <td>凤凰李淼福岛核泄漏日政府最初非常谨慎公布信息很少国民一度非常紧张原子能保安院官员记者会也都是...</td>\n",
       "      <td>2011年03月13日 23:11</td>\n",
       "    </tr>\n",
       "    <tr>\n",
       "      <th>4</th>\n",
       "      <td>酿青椒</td>\n",
       "      <td>福岛第一第二核电所属的东京电力社长出来向公众谢罪说跟设备老化比起来海啸才是使机械失效引发事故...</td>\n",
       "      <td>2011年03月13日 23:04</td>\n",
       "    </tr>\n",
       "  </tbody>\n",
       "</table>\n",
       "</div>"
      ],
      "text/plain": [
       "            author                                            content  \\\n",
       "0  Alexliao-Taiwan  希望你平安Greenbrothers现在十分担心福岛核电站的核泄漏最糟糕的情况核泄漏会波及到...   \n",
       "1             成都商报  聚焦日本地震据日本新闻网报道美国原子能委员会和美国能源部的一个专家小组今13日夜启程赶来日本...   \n",
       "2             东山讲坛  东京日本地震海啸爆炸中新网3月13日电据日本新闻网报道美国原子能委员会和美国能源部的一个专家...   \n",
       "3             长江日报  凤凰李淼福岛核泄漏日政府最初非常谨慎公布信息很少国民一度非常紧张原子能保安院官员记者会也都是...   \n",
       "4              酿青椒  福岛第一第二核电所属的东京电力社长出来向公众谢罪说跟设备老化比起来海啸才是使机械失效引发事故...   \n",
       "\n",
       "                time  \n",
       "0  2011年03月13日 23:38  \n",
       "1  2011年03月13日 23:29  \n",
       "2  2011年03月13日 23:21  \n",
       "3  2011年03月13日 23:11  \n",
       "4  2011年03月13日 23:04  "
      ]
     },
     "execution_count": 10,
     "metadata": {},
     "output_type": "execute_result"
    }
   ],
   "source": [
    "dfN['content'] = dfN['content'].str.replace(r'[^\\w]+', '')\n",
    "dfN.head()"
   ]
  },
  {
   "cell_type": "code",
   "execution_count": 11,
   "metadata": {},
   "outputs": [
    {
     "name": "stdout",
     "output_type": "stream",
     "text": [
      "174\n"
     ]
    }
   ],
   "source": [
    "number = 0\n",
    "for i in dfN['content'].values:\n",
    "    if i == '':\n",
    "        number+=1\n",
    "print(number)"
   ]
  },
  {
   "cell_type": "markdown",
   "metadata": {},
   "source": [
    "可以发现有这些数据content删除之后变成没有内容的假空值（但不是真空值 **\"\" != None**），但这类没有意义，也不适合作为重复值舍去\n",
    "\n",
    "接下来我们对这类异常值进行预处理，直接把这一行的数据丢掉"
   ]
  },
  {
   "cell_type": "code",
   "execution_count": 12,
   "metadata": {},
   "outputs": [
    {
     "name": "stderr",
     "output_type": "stream",
     "text": [
      "F:\\Anaconda3\\lib\\site-packages\\pandas\\core\\series.py:4563: SettingWithCopyWarning: \n",
      "A value is trying to be set on a copy of a slice from a DataFrame\n",
      "\n",
      "See the caveats in the documentation: https://pandas.pydata.org/pandas-docs/stable/user_guide/indexing.html#returning-a-view-versus-a-copy\n",
      "  return super().replace(\n"
     ]
    },
    {
     "data": {
      "text/html": [
       "<div>\n",
       "<style scoped>\n",
       "    .dataframe tbody tr th:only-of-type {\n",
       "        vertical-align: middle;\n",
       "    }\n",
       "\n",
       "    .dataframe tbody tr th {\n",
       "        vertical-align: top;\n",
       "    }\n",
       "\n",
       "    .dataframe thead th {\n",
       "        text-align: right;\n",
       "    }\n",
       "</style>\n",
       "<table border=\"1\" class=\"dataframe\">\n",
       "  <thead>\n",
       "    <tr style=\"text-align: right;\">\n",
       "      <th></th>\n",
       "      <th>author</th>\n",
       "      <th>content</th>\n",
       "      <th>time</th>\n",
       "    </tr>\n",
       "  </thead>\n",
       "  <tbody>\n",
       "    <tr>\n",
       "      <th>0</th>\n",
       "      <td>Alexliao-Taiwan</td>\n",
       "      <td>希望你平安Greenbrothers现在十分担心福岛核电站的核泄漏最糟糕的情况核泄漏会波及到...</td>\n",
       "      <td>2011年03月13日 23:38</td>\n",
       "    </tr>\n",
       "    <tr>\n",
       "      <th>1</th>\n",
       "      <td>成都商报</td>\n",
       "      <td>聚焦日本地震据日本新闻网报道美国原子能委员会和美国能源部的一个专家小组今13日夜启程赶来日本...</td>\n",
       "      <td>2011年03月13日 23:29</td>\n",
       "    </tr>\n",
       "    <tr>\n",
       "      <th>2</th>\n",
       "      <td>东山讲坛</td>\n",
       "      <td>东京日本地震海啸爆炸中新网3月13日电据日本新闻网报道美国原子能委员会和美国能源部的一个专家...</td>\n",
       "      <td>2011年03月13日 23:21</td>\n",
       "    </tr>\n",
       "    <tr>\n",
       "      <th>3</th>\n",
       "      <td>长江日报</td>\n",
       "      <td>凤凰李淼福岛核泄漏日政府最初非常谨慎公布信息很少国民一度非常紧张原子能保安院官员记者会也都是...</td>\n",
       "      <td>2011年03月13日 23:11</td>\n",
       "    </tr>\n",
       "    <tr>\n",
       "      <th>4</th>\n",
       "      <td>酿青椒</td>\n",
       "      <td>福岛第一第二核电所属的东京电力社长出来向公众谢罪说跟设备老化比起来海啸才是使机械失效引发事故...</td>\n",
       "      <td>2011年03月13日 23:04</td>\n",
       "    </tr>\n",
       "    <tr>\n",
       "      <th>...</th>\n",
       "      <td>...</td>\n",
       "      <td>...</td>\n",
       "      <td>...</td>\n",
       "    </tr>\n",
       "    <tr>\n",
       "      <th>100914</th>\n",
       "      <td>知乎用户</td>\n",
       "      <td>我一个准备去加国留学的看完心里怕怕的惜命_</td>\n",
       "      <td>2017-02-13</td>\n",
       "    </tr>\n",
       "    <tr>\n",
       "      <th>100915</th>\n",
       "      <td>L-清源</td>\n",
       "      <td>如果短期旅游有什么影响吗</td>\n",
       "      <td>2017-02-13</td>\n",
       "    </tr>\n",
       "    <tr>\n",
       "      <th>100916</th>\n",
       "      <td>黄sir</td>\n",
       "      <td>这个事实上答主春节刚从日本旅游回来还买了些化妆品不过仅限于去东京以东不过大家不知道注意过没日...</td>\n",
       "      <td>2017-02-12</td>\n",
       "    </tr>\n",
       "    <tr>\n",
       "      <th>100917</th>\n",
       "      <td>Siqi Xia (作者)</td>\n",
       "      <td>天呐请问哪些地方要注意不能去呢我还准备四五月份去玩来着去那玩还能吃海鲜那类吗现在日本零食已经...</td>\n",
       "      <td>2017-02-12</td>\n",
       "    </tr>\n",
       "    <tr>\n",
       "      <th>100918</th>\n",
       "      <td>荷喵</td>\n",
       "      <td>好厉害的分析啊</td>\n",
       "      <td>2017-02-12</td>\n",
       "    </tr>\n",
       "  </tbody>\n",
       "</table>\n",
       "<p>100919 rows × 3 columns</p>\n",
       "</div>"
      ],
      "text/plain": [
       "                 author                                            content  \\\n",
       "0       Alexliao-Taiwan  希望你平安Greenbrothers现在十分担心福岛核电站的核泄漏最糟糕的情况核泄漏会波及到...   \n",
       "1                  成都商报  聚焦日本地震据日本新闻网报道美国原子能委员会和美国能源部的一个专家小组今13日夜启程赶来日本...   \n",
       "2                  东山讲坛  东京日本地震海啸爆炸中新网3月13日电据日本新闻网报道美国原子能委员会和美国能源部的一个专家...   \n",
       "3                  长江日报  凤凰李淼福岛核泄漏日政府最初非常谨慎公布信息很少国民一度非常紧张原子能保安院官员记者会也都是...   \n",
       "4                   酿青椒  福岛第一第二核电所属的东京电力社长出来向公众谢罪说跟设备老化比起来海啸才是使机械失效引发事故...   \n",
       "...                 ...                                                ...   \n",
       "100914             知乎用户                              我一个准备去加国留学的看完心里怕怕的惜命_   \n",
       "100915             L-清源                                       如果短期旅游有什么影响吗   \n",
       "100916             黄sir  这个事实上答主春节刚从日本旅游回来还买了些化妆品不过仅限于去东京以东不过大家不知道注意过没日...   \n",
       "100917   Siqi Xia (作者)   天呐请问哪些地方要注意不能去呢我还准备四五月份去玩来着去那玩还能吃海鲜那类吗现在日本零食已经...   \n",
       "100918               荷喵                                            好厉害的分析啊   \n",
       "\n",
       "                     time  \n",
       "0       2011年03月13日 23:38  \n",
       "1       2011年03月13日 23:29  \n",
       "2       2011年03月13日 23:21  \n",
       "3       2011年03月13日 23:11  \n",
       "4       2011年03月13日 23:04  \n",
       "...                   ...  \n",
       "100914         2017-02-13  \n",
       "100915         2017-02-13  \n",
       "100916         2017-02-12  \n",
       "100917         2017-02-12  \n",
       "100918         2017-02-12  \n",
       "\n",
       "[100919 rows x 3 columns]"
      ]
     },
     "execution_count": 12,
     "metadata": {},
     "output_type": "execute_result"
    }
   ],
   "source": [
    "import numpy as np\n",
    "dfN['content'].replace(\"\",np.nan,inplace=True)\n",
    "dfN=dfN.dropna(axis=0, subset= ['content']).dropna(axis=0,subset=['author'])\n",
    "dfN.reset_index(drop=True,inplace=True) #drop=True：删除原行索引；inplace=True:在数据上进行更新\n",
    "dfN"
   ]
  },
  {
   "cell_type": "code",
   "execution_count": 13,
   "metadata": {},
   "outputs": [
    {
     "name": "stdout",
     "output_type": "stream",
     "text": [
      "OK\n"
     ]
    }
   ],
   "source": [
    "# 存储数据\n",
    "\n",
    "import filestore as fs\n",
    "a = fs.FileStore(dfN, 'processed-content-data')\n",
    "a.download_as_csv()"
   ]
  },
  {
   "cell_type": "markdown",
   "metadata": {
    "pycharm": {
     "name": "#%% md\n"
    }
   },
   "source": [
    "### 中文分词技术\n",
    "\n"
   ]
  },
  {
   "cell_type": "code",
   "execution_count": 14,
   "metadata": {},
   "outputs": [
    {
     "name": "stderr",
     "output_type": "stream",
     "text": [
      "Building prefix dict from the default dictionary ...\n",
      "Dumping model to file cache C:\\Users\\admin\\AppData\\Local\\Temp\\jieba.cache\n",
      "Loading model cost 0.994 seconds.\n",
      "Prefix dict has been built successfully.\n"
     ]
    },
    {
     "ename": "KeyboardInterrupt",
     "evalue": "",
     "output_type": "error",
     "traceback": [
      "\u001B[1;31m---------------------------------------------------------------------------\u001B[0m",
      "\u001B[1;31mKeyboardInterrupt\u001B[0m                         Traceback (most recent call last)",
      "\u001B[1;32m<ipython-input-14-cc5d290f827f>\u001B[0m in \u001B[0;36m<module>\u001B[1;34m\u001B[0m\n\u001B[0;32m      1\u001B[0m \u001B[1;32mimport\u001B[0m \u001B[0mwordCleaner\u001B[0m\u001B[1;33m\u001B[0m\u001B[1;33m\u001B[0m\u001B[0m\n\u001B[0;32m      2\u001B[0m \u001B[0mwdc\u001B[0m \u001B[1;33m=\u001B[0m \u001B[0mwordCleaner\u001B[0m\u001B[1;33m.\u001B[0m\u001B[0mWordCleaner\u001B[0m\u001B[1;33m(\u001B[0m\u001B[0mdfN\u001B[0m\u001B[1;33m)\u001B[0m\u001B[1;33m\u001B[0m\u001B[1;33m\u001B[0m\u001B[0m\n\u001B[1;32m----> 3\u001B[1;33m \u001B[0mwdc\u001B[0m\u001B[1;33m.\u001B[0m\u001B[0mstop_words_data\u001B[0m\u001B[1;33m(\u001B[0m\u001B[1;34m'results/random-nuclear/Res-Dat/'\u001B[0m\u001B[1;33m)\u001B[0m\u001B[1;33m\u001B[0m\u001B[1;33m\u001B[0m\u001B[0m\n\u001B[0m\u001B[0;32m      4\u001B[0m \u001B[1;33m\u001B[0m\u001B[0m\n\u001B[0;32m      5\u001B[0m \u001B[0mwdc\u001B[0m\u001B[1;33m.\u001B[0m\u001B[0mjieba_cut\u001B[0m\u001B[1;33m(\u001B[0m\u001B[1;34m'results/random-nuclear/Res-Dat/'\u001B[0m\u001B[1;33m)\u001B[0m\u001B[1;33m\u001B[0m\u001B[1;33m\u001B[0m\u001B[0m\n",
      "\u001B[1;32mF:\\Social-Web-Mining\\wordCleaner.py\u001B[0m in \u001B[0;36mstop_words_data\u001B[1;34m(self, filedir)\u001B[0m\n\u001B[0;32m     41\u001B[0m             \u001B[0mseg_list\u001B[0m \u001B[1;33m=\u001B[0m \u001B[0mpsg\u001B[0m\u001B[1;33m.\u001B[0m\u001B[0mcut\u001B[0m\u001B[1;33m(\u001B[0m\u001B[0mline\u001B[0m\u001B[1;33m)\u001B[0m\u001B[1;33m\u001B[0m\u001B[1;33m\u001B[0m\u001B[0m\n\u001B[0;32m     42\u001B[0m \u001B[1;33m\u001B[0m\u001B[0m\n\u001B[1;32m---> 43\u001B[1;33m             \u001B[0mresult\u001B[0m \u001B[1;33m=\u001B[0m \u001B[1;34m\" \"\u001B[0m\u001B[1;33m.\u001B[0m\u001B[0mjoin\u001B[0m\u001B[1;33m(\u001B[0m\u001B[1;33m[\u001B[0m\u001B[1;34m\"{0}/{1}\"\u001B[0m\u001B[1;33m.\u001B[0m\u001B[0mformat\u001B[0m\u001B[1;33m(\u001B[0m\u001B[0mw\u001B[0m\u001B[1;33m,\u001B[0m \u001B[0mt\u001B[0m\u001B[1;33m)\u001B[0m \u001B[1;32mfor\u001B[0m \u001B[0mw\u001B[0m\u001B[1;33m,\u001B[0m \u001B[0mt\u001B[0m \u001B[1;32min\u001B[0m \u001B[0mseg_list\u001B[0m\u001B[1;33m]\u001B[0m\u001B[1;33m)\u001B[0m\u001B[1;33m\u001B[0m\u001B[1;33m\u001B[0m\u001B[0m\n\u001B[0m\u001B[0;32m     44\u001B[0m             \u001B[0mpart_of_speech\u001B[0m\u001B[1;33m.\u001B[0m\u001B[0mappend\u001B[0m\u001B[1;33m(\u001B[0m\u001B[0mresult\u001B[0m\u001B[1;33m)\u001B[0m\u001B[1;33m\u001B[0m\u001B[1;33m\u001B[0m\u001B[0m\n\u001B[0;32m     45\u001B[0m         \u001B[1;31m# part_of_speech\u001B[0m\u001B[1;33m\u001B[0m\u001B[1;33m\u001B[0m\u001B[1;33m\u001B[0m\u001B[0m\n",
      "\u001B[1;32mF:\\Social-Web-Mining\\wordCleaner.py\u001B[0m in \u001B[0;36m<listcomp>\u001B[1;34m(.0)\u001B[0m\n\u001B[0;32m     41\u001B[0m             \u001B[0mseg_list\u001B[0m \u001B[1;33m=\u001B[0m \u001B[0mpsg\u001B[0m\u001B[1;33m.\u001B[0m\u001B[0mcut\u001B[0m\u001B[1;33m(\u001B[0m\u001B[0mline\u001B[0m\u001B[1;33m)\u001B[0m\u001B[1;33m\u001B[0m\u001B[1;33m\u001B[0m\u001B[0m\n\u001B[0;32m     42\u001B[0m \u001B[1;33m\u001B[0m\u001B[0m\n\u001B[1;32m---> 43\u001B[1;33m             \u001B[0mresult\u001B[0m \u001B[1;33m=\u001B[0m \u001B[1;34m\" \"\u001B[0m\u001B[1;33m.\u001B[0m\u001B[0mjoin\u001B[0m\u001B[1;33m(\u001B[0m\u001B[1;33m[\u001B[0m\u001B[1;34m\"{0}/{1}\"\u001B[0m\u001B[1;33m.\u001B[0m\u001B[0mformat\u001B[0m\u001B[1;33m(\u001B[0m\u001B[0mw\u001B[0m\u001B[1;33m,\u001B[0m \u001B[0mt\u001B[0m\u001B[1;33m)\u001B[0m \u001B[1;32mfor\u001B[0m \u001B[0mw\u001B[0m\u001B[1;33m,\u001B[0m \u001B[0mt\u001B[0m \u001B[1;32min\u001B[0m \u001B[0mseg_list\u001B[0m\u001B[1;33m]\u001B[0m\u001B[1;33m)\u001B[0m\u001B[1;33m\u001B[0m\u001B[1;33m\u001B[0m\u001B[0m\n\u001B[0m\u001B[0;32m     44\u001B[0m             \u001B[0mpart_of_speech\u001B[0m\u001B[1;33m.\u001B[0m\u001B[0mappend\u001B[0m\u001B[1;33m(\u001B[0m\u001B[0mresult\u001B[0m\u001B[1;33m)\u001B[0m\u001B[1;33m\u001B[0m\u001B[1;33m\u001B[0m\u001B[0m\n\u001B[0;32m     45\u001B[0m         \u001B[1;31m# part_of_speech\u001B[0m\u001B[1;33m\u001B[0m\u001B[1;33m\u001B[0m\u001B[1;33m\u001B[0m\u001B[0m\n",
      "\u001B[1;32mF:\\Anaconda3\\lib\\site-packages\\jieba\\posseg\\__init__.py\u001B[0m in \u001B[0;36mcut\u001B[1;34m(sentence, HMM, use_paddle)\u001B[0m\n\u001B[0;32m    292\u001B[0m     \u001B[1;32mglobal\u001B[0m \u001B[0mdt\u001B[0m\u001B[1;33m\u001B[0m\u001B[1;33m\u001B[0m\u001B[0m\n\u001B[0;32m    293\u001B[0m     \u001B[1;32mif\u001B[0m \u001B[0mjieba\u001B[0m\u001B[1;33m.\u001B[0m\u001B[0mpool\u001B[0m \u001B[1;32mis\u001B[0m \u001B[1;32mNone\u001B[0m\u001B[1;33m:\u001B[0m\u001B[1;33m\u001B[0m\u001B[1;33m\u001B[0m\u001B[0m\n\u001B[1;32m--> 294\u001B[1;33m         \u001B[1;32mfor\u001B[0m \u001B[0mw\u001B[0m \u001B[1;32min\u001B[0m \u001B[0mdt\u001B[0m\u001B[1;33m.\u001B[0m\u001B[0mcut\u001B[0m\u001B[1;33m(\u001B[0m\u001B[0msentence\u001B[0m\u001B[1;33m,\u001B[0m \u001B[0mHMM\u001B[0m\u001B[1;33m=\u001B[0m\u001B[0mHMM\u001B[0m\u001B[1;33m)\u001B[0m\u001B[1;33m:\u001B[0m\u001B[1;33m\u001B[0m\u001B[1;33m\u001B[0m\u001B[0m\n\u001B[0m\u001B[0;32m    295\u001B[0m             \u001B[1;32myield\u001B[0m \u001B[0mw\u001B[0m\u001B[1;33m\u001B[0m\u001B[1;33m\u001B[0m\u001B[0m\n\u001B[0;32m    296\u001B[0m     \u001B[1;32melse\u001B[0m\u001B[1;33m:\u001B[0m\u001B[1;33m\u001B[0m\u001B[1;33m\u001B[0m\u001B[0m\n",
      "\u001B[1;32mF:\\Anaconda3\\lib\\site-packages\\jieba\\posseg\\__init__.py\u001B[0m in \u001B[0;36mcut\u001B[1;34m(self, sentence, HMM)\u001B[0m\n\u001B[0;32m    247\u001B[0m \u001B[1;33m\u001B[0m\u001B[0m\n\u001B[0;32m    248\u001B[0m     \u001B[1;32mdef\u001B[0m \u001B[0mcut\u001B[0m\u001B[1;33m(\u001B[0m\u001B[0mself\u001B[0m\u001B[1;33m,\u001B[0m \u001B[0msentence\u001B[0m\u001B[1;33m,\u001B[0m \u001B[0mHMM\u001B[0m\u001B[1;33m=\u001B[0m\u001B[1;32mTrue\u001B[0m\u001B[1;33m)\u001B[0m\u001B[1;33m:\u001B[0m\u001B[1;33m\u001B[0m\u001B[1;33m\u001B[0m\u001B[0m\n\u001B[1;32m--> 249\u001B[1;33m         \u001B[1;32mfor\u001B[0m \u001B[0mw\u001B[0m \u001B[1;32min\u001B[0m \u001B[0mself\u001B[0m\u001B[1;33m.\u001B[0m\u001B[0m__cut_internal\u001B[0m\u001B[1;33m(\u001B[0m\u001B[0msentence\u001B[0m\u001B[1;33m,\u001B[0m \u001B[0mHMM\u001B[0m\u001B[1;33m=\u001B[0m\u001B[0mHMM\u001B[0m\u001B[1;33m)\u001B[0m\u001B[1;33m:\u001B[0m\u001B[1;33m\u001B[0m\u001B[1;33m\u001B[0m\u001B[0m\n\u001B[0m\u001B[0;32m    250\u001B[0m             \u001B[1;32myield\u001B[0m \u001B[0mw\u001B[0m\u001B[1;33m\u001B[0m\u001B[1;33m\u001B[0m\u001B[0m\n\u001B[0;32m    251\u001B[0m \u001B[1;33m\u001B[0m\u001B[0m\n",
      "\u001B[1;32mF:\\Anaconda3\\lib\\site-packages\\jieba\\posseg\\__init__.py\u001B[0m in \u001B[0;36m__cut_internal\u001B[1;34m(self, sentence, HMM)\u001B[0m\n\u001B[0;32m    224\u001B[0m         \u001B[1;32mfor\u001B[0m \u001B[0mblk\u001B[0m \u001B[1;32min\u001B[0m \u001B[0mblocks\u001B[0m\u001B[1;33m:\u001B[0m\u001B[1;33m\u001B[0m\u001B[1;33m\u001B[0m\u001B[0m\n\u001B[0;32m    225\u001B[0m             \u001B[1;32mif\u001B[0m \u001B[0mre_han_internal\u001B[0m\u001B[1;33m.\u001B[0m\u001B[0mmatch\u001B[0m\u001B[1;33m(\u001B[0m\u001B[0mblk\u001B[0m\u001B[1;33m)\u001B[0m\u001B[1;33m:\u001B[0m\u001B[1;33m\u001B[0m\u001B[1;33m\u001B[0m\u001B[0m\n\u001B[1;32m--> 226\u001B[1;33m                 \u001B[1;32mfor\u001B[0m \u001B[0mword\u001B[0m \u001B[1;32min\u001B[0m \u001B[0mcut_blk\u001B[0m\u001B[1;33m(\u001B[0m\u001B[0mblk\u001B[0m\u001B[1;33m)\u001B[0m\u001B[1;33m:\u001B[0m\u001B[1;33m\u001B[0m\u001B[1;33m\u001B[0m\u001B[0m\n\u001B[0m\u001B[0;32m    227\u001B[0m                     \u001B[1;32myield\u001B[0m \u001B[0mword\u001B[0m\u001B[1;33m\u001B[0m\u001B[1;33m\u001B[0m\u001B[0m\n\u001B[0;32m    228\u001B[0m             \u001B[1;32melse\u001B[0m\u001B[1;33m:\u001B[0m\u001B[1;33m\u001B[0m\u001B[1;33m\u001B[0m\u001B[0m\n",
      "\u001B[1;32mF:\\Anaconda3\\lib\\site-packages\\jieba\\posseg\\__init__.py\u001B[0m in \u001B[0;36m__cut_DAG\u001B[1;34m(self, sentence)\u001B[0m\n\u001B[0;32m    193\u001B[0m                     \u001B[1;32melif\u001B[0m \u001B[1;32mnot\u001B[0m \u001B[0mself\u001B[0m\u001B[1;33m.\u001B[0m\u001B[0mtokenizer\u001B[0m\u001B[1;33m.\u001B[0m\u001B[0mFREQ\u001B[0m\u001B[1;33m.\u001B[0m\u001B[0mget\u001B[0m\u001B[1;33m(\u001B[0m\u001B[0mbuf\u001B[0m\u001B[1;33m)\u001B[0m\u001B[1;33m:\u001B[0m\u001B[1;33m\u001B[0m\u001B[1;33m\u001B[0m\u001B[0m\n\u001B[0;32m    194\u001B[0m                         \u001B[0mrecognized\u001B[0m \u001B[1;33m=\u001B[0m \u001B[0mself\u001B[0m\u001B[1;33m.\u001B[0m\u001B[0m__cut_detail\u001B[0m\u001B[1;33m(\u001B[0m\u001B[0mbuf\u001B[0m\u001B[1;33m)\u001B[0m\u001B[1;33m\u001B[0m\u001B[1;33m\u001B[0m\u001B[0m\n\u001B[1;32m--> 195\u001B[1;33m                         \u001B[1;32mfor\u001B[0m \u001B[0mt\u001B[0m \u001B[1;32min\u001B[0m \u001B[0mrecognized\u001B[0m\u001B[1;33m:\u001B[0m\u001B[1;33m\u001B[0m\u001B[1;33m\u001B[0m\u001B[0m\n\u001B[0m\u001B[0;32m    196\u001B[0m                             \u001B[1;32myield\u001B[0m \u001B[0mt\u001B[0m\u001B[1;33m\u001B[0m\u001B[1;33m\u001B[0m\u001B[0m\n\u001B[0;32m    197\u001B[0m                     \u001B[1;32melse\u001B[0m\u001B[1;33m:\u001B[0m\u001B[1;33m\u001B[0m\u001B[1;33m\u001B[0m\u001B[0m\n",
      "\u001B[1;32mF:\\Anaconda3\\lib\\site-packages\\jieba\\posseg\\__init__.py\u001B[0m in \u001B[0;36m__cut_detail\u001B[1;34m(self, sentence)\u001B[0m\n\u001B[0;32m    137\u001B[0m         \u001B[1;32mfor\u001B[0m \u001B[0mblk\u001B[0m \u001B[1;32min\u001B[0m \u001B[0mblocks\u001B[0m\u001B[1;33m:\u001B[0m\u001B[1;33m\u001B[0m\u001B[1;33m\u001B[0m\u001B[0m\n\u001B[0;32m    138\u001B[0m             \u001B[1;32mif\u001B[0m \u001B[0mre_han_detail\u001B[0m\u001B[1;33m.\u001B[0m\u001B[0mmatch\u001B[0m\u001B[1;33m(\u001B[0m\u001B[0mblk\u001B[0m\u001B[1;33m)\u001B[0m\u001B[1;33m:\u001B[0m\u001B[1;33m\u001B[0m\u001B[1;33m\u001B[0m\u001B[0m\n\u001B[1;32m--> 139\u001B[1;33m                 \u001B[1;32mfor\u001B[0m \u001B[0mword\u001B[0m \u001B[1;32min\u001B[0m \u001B[0mself\u001B[0m\u001B[1;33m.\u001B[0m\u001B[0m__cut\u001B[0m\u001B[1;33m(\u001B[0m\u001B[0mblk\u001B[0m\u001B[1;33m)\u001B[0m\u001B[1;33m:\u001B[0m\u001B[1;33m\u001B[0m\u001B[1;33m\u001B[0m\u001B[0m\n\u001B[0m\u001B[0;32m    140\u001B[0m                     \u001B[1;32myield\u001B[0m \u001B[0mword\u001B[0m\u001B[1;33m\u001B[0m\u001B[1;33m\u001B[0m\u001B[0m\n\u001B[0;32m    141\u001B[0m             \u001B[1;32melse\u001B[0m\u001B[1;33m:\u001B[0m\u001B[1;33m\u001B[0m\u001B[1;33m\u001B[0m\u001B[0m\n",
      "\u001B[1;32mF:\\Anaconda3\\lib\\site-packages\\jieba\\posseg\\__init__.py\u001B[0m in \u001B[0;36m__cut\u001B[1;34m(self, sentence)\u001B[0m\n\u001B[0;32m    116\u001B[0m \u001B[1;33m\u001B[0m\u001B[0m\n\u001B[0;32m    117\u001B[0m     \u001B[1;32mdef\u001B[0m \u001B[0m__cut\u001B[0m\u001B[1;33m(\u001B[0m\u001B[0mself\u001B[0m\u001B[1;33m,\u001B[0m \u001B[0msentence\u001B[0m\u001B[1;33m)\u001B[0m\u001B[1;33m:\u001B[0m\u001B[1;33m\u001B[0m\u001B[1;33m\u001B[0m\u001B[0m\n\u001B[1;32m--> 118\u001B[1;33m         prob, pos_list = viterbi(\n\u001B[0m\u001B[0;32m    119\u001B[0m             sentence, char_state_tab_P, start_P, trans_P, emit_P)\n\u001B[0;32m    120\u001B[0m         \u001B[0mbegin\u001B[0m\u001B[1;33m,\u001B[0m \u001B[0mnexti\u001B[0m \u001B[1;33m=\u001B[0m \u001B[1;36m0\u001B[0m\u001B[1;33m,\u001B[0m \u001B[1;36m0\u001B[0m\u001B[1;33m\u001B[0m\u001B[1;33m\u001B[0m\u001B[0m\n",
      "\u001B[1;32mF:\\Anaconda3\\lib\\site-packages\\jieba\\posseg\\viterbi.py\u001B[0m in \u001B[0;36mviterbi\u001B[1;34m(obs, states, start_p, trans_p, emit_p)\u001B[0m\n\u001B[0;32m     35\u001B[0m \u001B[1;33m\u001B[0m\u001B[0m\n\u001B[0;32m     36\u001B[0m         \u001B[1;32mfor\u001B[0m \u001B[0my\u001B[0m \u001B[1;32min\u001B[0m \u001B[0mobs_states\u001B[0m\u001B[1;33m:\u001B[0m\u001B[1;33m\u001B[0m\u001B[1;33m\u001B[0m\u001B[0m\n\u001B[1;32m---> 37\u001B[1;33m             prob, state = max((V[t - 1][y0] + trans_p[y0].get(y, MIN_INF) +\n\u001B[0m\u001B[0;32m     38\u001B[0m                                emit_p[y].get(obs[t], MIN_FLOAT), y0) for y0 in prev_states)\n\u001B[0;32m     39\u001B[0m             \u001B[0mV\u001B[0m\u001B[1;33m[\u001B[0m\u001B[0mt\u001B[0m\u001B[1;33m]\u001B[0m\u001B[1;33m[\u001B[0m\u001B[0my\u001B[0m\u001B[1;33m]\u001B[0m \u001B[1;33m=\u001B[0m \u001B[0mprob\u001B[0m\u001B[1;33m\u001B[0m\u001B[1;33m\u001B[0m\u001B[0m\n",
      "\u001B[1;32mF:\\Anaconda3\\lib\\site-packages\\jieba\\posseg\\viterbi.py\u001B[0m in \u001B[0;36m<genexpr>\u001B[1;34m(.0)\u001B[0m\n\u001B[0;32m     36\u001B[0m         \u001B[1;32mfor\u001B[0m \u001B[0my\u001B[0m \u001B[1;32min\u001B[0m \u001B[0mobs_states\u001B[0m\u001B[1;33m:\u001B[0m\u001B[1;33m\u001B[0m\u001B[1;33m\u001B[0m\u001B[0m\n\u001B[0;32m     37\u001B[0m             prob, state = max((V[t - 1][y0] + trans_p[y0].get(y, MIN_INF) +\n\u001B[1;32m---> 38\u001B[1;33m                                emit_p[y].get(obs[t], MIN_FLOAT), y0) for y0 in prev_states)\n\u001B[0m\u001B[0;32m     39\u001B[0m             \u001B[0mV\u001B[0m\u001B[1;33m[\u001B[0m\u001B[0mt\u001B[0m\u001B[1;33m]\u001B[0m\u001B[1;33m[\u001B[0m\u001B[0my\u001B[0m\u001B[1;33m]\u001B[0m \u001B[1;33m=\u001B[0m \u001B[0mprob\u001B[0m\u001B[1;33m\u001B[0m\u001B[1;33m\u001B[0m\u001B[0m\n\u001B[0;32m     40\u001B[0m             \u001B[0mmem_path\u001B[0m\u001B[1;33m[\u001B[0m\u001B[0mt\u001B[0m\u001B[1;33m]\u001B[0m\u001B[1;33m[\u001B[0m\u001B[0my\u001B[0m\u001B[1;33m]\u001B[0m \u001B[1;33m=\u001B[0m \u001B[0mstate\u001B[0m\u001B[1;33m\u001B[0m\u001B[1;33m\u001B[0m\u001B[0m\n",
      "\u001B[1;31mKeyboardInterrupt\u001B[0m: "
     ]
    }
   ],
   "source": [
    "import wordCleaner\n",
    "wdc = wordCleaner.WordCleaner(dfN)\n",
    "wdc.stop_words_data('results/random-nuclear/Res-Dat/')\n",
    "\n",
    "wdc.jieba_cut('results/random-nuclear/Res-Dat/')\n"
   ]
  },
  {
   "cell_type": "markdown",
   "metadata": {},
   "source": [
    "**去重复词设计**\n",
    "\n",
    "**词云图设计**\n"
   ]
  },
  {
   "cell_type": "code",
   "execution_count": 15,
   "metadata": {},
   "outputs": [
    {
     "name": "stdout",
     "output_type": "stream",
     "text": [
      "{'日本': 1.0, '福岛': 0.7193395320397253, '核电站': 0.37325197783857933, '废水': 0.2840784104554391, '污水': 0.2146291226557384, '视频': 0.20468903288413393, '全文': 0.16636089433756587, '中国': 0.1486258156677644, '链接': 0.12668544858567382, '网页': 0.1219874866789901, '东京': 0.11046625906266468, '核污染': 0.1082104084700819, '美国': 0.10397652216013517, '核泄漏': 0.10012296917632094, '太平洋': 0.09338426326773416, '核辐射': 0.09103848593516867, '事故': 0.08845339580324901, '海洋': 0.0880745585171814, '地震': 0.08677963500536756, '环境': 0.0829352724736272, '核事故': 0.08177572547485508, '问题': 0.08007174755977982, '国家': 0.07232328815290415, '入海': 0.06950391613421061, '电力公司': 0.06080322206923868, '人类': 0.060195934092116314, '放射性': 0.06006093443405548, '时差': 0.06001916591541537, '大海': 0.05987494702148295, '韩国': 0.056761259918636835, '专家': 0.0545106604447986, '世界': 0.054231740429410175, '政府': 0.048147580477495656, '核电': 0.0461002600087303, '新闻': 0.04540999962266498, '全球': 0.045058212822845015, '大臣': 0.045016284132531545, '食品': 0.04305708347756525, '国际': 0.042825184859726036, '方案': 0.041267685491798815, '部分': 0.039641527052469774, '公司': 0.03778935329683528, '事件': 0.036872642953070314, '产生': 0.03682839193789136, '放射性物质': 0.036369382900217184, '海域': 0.03456976163052852, '大量': 0.033304448914319, '民众': 0.03309930383800736, '海啸': 0.03305762796141512, '变异': 0.032878861663124495}\n"
     ]
    },
    {
     "data": {
      "image/png": "[encoded data removed]",
      "text/plain": [
       "<Figure size 432x288 with 1 Axes>"
      ]
     },
     "metadata": {
      "needs_background": "light"
     },
     "output_type": "display_data"
    }
   ],
   "source": [
    "from dataVision import DataVisitor\n",
    "import jieba\n",
    "import jieba.analyse\n",
    "vis = DataVisitor(dfN)\n",
    "vis.show_word_cloud('material/simsun.ttc', 'material/cat.jpg','results/random-nuclear/word_frequency.txt', 'results/random-nuclear/cat_cloud.png')"
   ]
  },
  {
   "cell_type": "code",
   "execution_count": 1,
   "metadata": {},
   "outputs": [
    {
     "data": {
      "text/plain": [
       "(100919, 4)"
      ]
     },
     "execution_count": 1,
     "metadata": {},
     "output_type": "execute_result"
    }
   ],
   "source": [
    "import pandas as pd\n",
    "dfN = pd.read_csv(r\"results/random-nuclear/Res-Dat/processed-content-data.csv\")\n",
    "dfN.shape\n",
    "# dfN.head(10)"
   ]
  },
  {
   "cell_type": "markdown",
   "metadata": {},
   "source": [
    "## 聚类搭建模型\n",
    "\n",
    "### 1.轮廓系数模型导入"
   ]
  },
  {
   "cell_type": "code",
   "execution_count": 6,
   "metadata": {},
   "outputs": [
    {
     "name": "stderr",
     "output_type": "stream",
     "text": [
      "Building prefix dict from the default dictionary ...\n",
      "Loading model from cache C:\\Users\\admin\\AppData\\Local\\Temp\\jieba.cache\n",
      "Loading model cost 0.663 seconds.\n",
      "Prefix dict has been built successfully.\n",
      "F:\\Anaconda3\\lib\\site-packages\\sklearn\\feature_extraction\\text.py:388: UserWarning: Your stop_words may be inconsistent with your preprocessing. Tokenizing the stop words generated tokens [\"'\", 'a', 'ain', 'aren', 'c', 'couldn', 'd', 'didn', 'doesn', 'don', 'hadn', 'hasn', 'haven', 'i', 'isn', 'll', 'm', 'mon', 's', 'shouldn', 't', 've', 'wasn', 'weren', 'won', 'wouldn', '下', '不', '为什', '什', '今', '使', '先', '却', '只', '唷', '啪', '喔', '天', '好', '後', '最', '漫', '然', '特', '特别', '见', '设', '说', '达', '面', '麽', '－'] not in stop_words.\n",
      "  warnings.warn('Your stop_words may be inconsistent with '\n"
     ]
    },
    {
     "ename": "MemoryError",
     "evalue": "Unable to allocate 93.7 GiB for an array with shape (100919, 124612) and data type int64",
     "output_type": "error",
     "traceback": [
      "\u001B[1;31m---------------------------------------------------------------------------\u001B[0m",
      "\u001B[1;31mMemoryError\u001B[0m                               Traceback (most recent call last)",
      "\u001B[1;32m<ipython-input-6-4db6d6904aa7>\u001B[0m in \u001B[0;36m<module>\u001B[1;34m\u001B[0m\n\u001B[0;32m      2\u001B[0m \u001B[1;33m\u001B[0m\u001B[0m\n\u001B[0;32m      3\u001B[0m \u001B[0mclstr\u001B[0m \u001B[1;33m=\u001B[0m \u001B[0mdataCluster\u001B[0m\u001B[1;33m.\u001B[0m\u001B[0mDataCluster\u001B[0m\u001B[1;33m(\u001B[0m\u001B[0mdfN\u001B[0m\u001B[1;33m,\u001B[0m \u001B[1;34m'nuclear-comment'\u001B[0m\u001B[1;33m)\u001B[0m\u001B[1;33m\u001B[0m\u001B[1;33m\u001B[0m\u001B[0m\n\u001B[1;32m----> 4\u001B[1;33m \u001B[0mclstr\u001B[0m\u001B[1;33m.\u001B[0m\u001B[0mgenerate_wordcountvector\u001B[0m\u001B[1;33m(\u001B[0m\u001B[1;33m)\u001B[0m\u001B[1;33m\u001B[0m\u001B[1;33m\u001B[0m\u001B[0m\n\u001B[0m\u001B[0;32m      5\u001B[0m \u001B[0mclstr\u001B[0m\u001B[1;33m\u001B[0m\u001B[1;33m\u001B[0m\u001B[0m\n",
      "\u001B[1;32mF:\\Social-Web-Mining\\dataCluster.py\u001B[0m in \u001B[0;36mgenerate_wordcountvector\u001B[1;34m(self)\u001B[0m\n\u001B[0;32m     35\u001B[0m         \u001B[1;34m'''获取社交评论的词频矩阵'''\u001B[0m\u001B[1;33m\u001B[0m\u001B[1;33m\u001B[0m\u001B[0m\n\u001B[0;32m     36\u001B[0m         \u001B[0mcount\u001B[0m \u001B[1;33m=\u001B[0m \u001B[0mCountVectorizer\u001B[0m\u001B[1;33m(\u001B[0m\u001B[0mtokenizer\u001B[0m\u001B[1;33m=\u001B[0m\u001B[0mtokenizer\u001B[0m\u001B[1;33m,\u001B[0m \u001B[0mstop_words\u001B[0m\u001B[1;33m=\u001B[0m\u001B[0mlist\u001B[0m\u001B[1;33m(\u001B[0m\u001B[0mself\u001B[0m\u001B[1;33m.\u001B[0m\u001B[0mstopwords\u001B[0m\u001B[1;33m)\u001B[0m\u001B[1;33m)\u001B[0m\u001B[1;33m\u001B[0m\u001B[1;33m\u001B[0m\u001B[0m\n\u001B[1;32m---> 37\u001B[1;33m         \u001B[0mcountvector\u001B[0m \u001B[1;33m=\u001B[0m \u001B[0mcount\u001B[0m\u001B[1;33m.\u001B[0m\u001B[0mfit_transform\u001B[0m\u001B[1;33m(\u001B[0m\u001B[0mself\u001B[0m\u001B[1;33m.\u001B[0m\u001B[0mdata\u001B[0m\u001B[1;33m[\u001B[0m\u001B[1;34m'content'\u001B[0m\u001B[1;33m]\u001B[0m\u001B[1;33m)\u001B[0m\u001B[1;33m.\u001B[0m\u001B[0mtoarray\u001B[0m\u001B[1;33m(\u001B[0m\u001B[1;33m)\u001B[0m\u001B[1;33m\u001B[0m\u001B[1;33m\u001B[0m\u001B[0m\n\u001B[0m\u001B[0;32m     38\u001B[0m         \u001B[1;31m# print(countvector)\u001B[0m\u001B[1;33m\u001B[0m\u001B[1;33m\u001B[0m\u001B[1;33m\u001B[0m\u001B[0m\n\u001B[0;32m     39\u001B[0m         \u001B[0mself\u001B[0m\u001B[1;33m.\u001B[0m\u001B[0mcountvector\u001B[0m \u001B[1;33m=\u001B[0m \u001B[0mcountvector\u001B[0m\u001B[1;33m\u001B[0m\u001B[1;33m\u001B[0m\u001B[0m\n",
      "\u001B[1;32mF:\\Anaconda3\\lib\\site-packages\\scipy\\sparse\\compressed.py\u001B[0m in \u001B[0;36mtoarray\u001B[1;34m(self, order, out)\u001B[0m\n\u001B[0;32m   1023\u001B[0m         \u001B[1;32mif\u001B[0m \u001B[0mout\u001B[0m \u001B[1;32mis\u001B[0m \u001B[1;32mNone\u001B[0m \u001B[1;32mand\u001B[0m \u001B[0morder\u001B[0m \u001B[1;32mis\u001B[0m \u001B[1;32mNone\u001B[0m\u001B[1;33m:\u001B[0m\u001B[1;33m\u001B[0m\u001B[1;33m\u001B[0m\u001B[0m\n\u001B[0;32m   1024\u001B[0m             \u001B[0morder\u001B[0m \u001B[1;33m=\u001B[0m \u001B[0mself\u001B[0m\u001B[1;33m.\u001B[0m\u001B[0m_swap\u001B[0m\u001B[1;33m(\u001B[0m\u001B[1;34m'cf'\u001B[0m\u001B[1;33m)\u001B[0m\u001B[1;33m[\u001B[0m\u001B[1;36m0\u001B[0m\u001B[1;33m]\u001B[0m\u001B[1;33m\u001B[0m\u001B[1;33m\u001B[0m\u001B[0m\n\u001B[1;32m-> 1025\u001B[1;33m         \u001B[0mout\u001B[0m \u001B[1;33m=\u001B[0m \u001B[0mself\u001B[0m\u001B[1;33m.\u001B[0m\u001B[0m_process_toarray_args\u001B[0m\u001B[1;33m(\u001B[0m\u001B[0morder\u001B[0m\u001B[1;33m,\u001B[0m \u001B[0mout\u001B[0m\u001B[1;33m)\u001B[0m\u001B[1;33m\u001B[0m\u001B[1;33m\u001B[0m\u001B[0m\n\u001B[0m\u001B[0;32m   1026\u001B[0m         \u001B[1;32mif\u001B[0m \u001B[1;32mnot\u001B[0m \u001B[1;33m(\u001B[0m\u001B[0mout\u001B[0m\u001B[1;33m.\u001B[0m\u001B[0mflags\u001B[0m\u001B[1;33m.\u001B[0m\u001B[0mc_contiguous\u001B[0m \u001B[1;32mor\u001B[0m \u001B[0mout\u001B[0m\u001B[1;33m.\u001B[0m\u001B[0mflags\u001B[0m\u001B[1;33m.\u001B[0m\u001B[0mf_contiguous\u001B[0m\u001B[1;33m)\u001B[0m\u001B[1;33m:\u001B[0m\u001B[1;33m\u001B[0m\u001B[1;33m\u001B[0m\u001B[0m\n\u001B[0;32m   1027\u001B[0m             \u001B[1;32mraise\u001B[0m \u001B[0mValueError\u001B[0m\u001B[1;33m(\u001B[0m\u001B[1;34m'Output array must be C or F contiguous'\u001B[0m\u001B[1;33m)\u001B[0m\u001B[1;33m\u001B[0m\u001B[1;33m\u001B[0m\u001B[0m\n",
      "\u001B[1;32mF:\\Anaconda3\\lib\\site-packages\\scipy\\sparse\\base.py\u001B[0m in \u001B[0;36m_process_toarray_args\u001B[1;34m(self, order, out)\u001B[0m\n\u001B[0;32m   1183\u001B[0m             \u001B[1;32mreturn\u001B[0m \u001B[0mout\u001B[0m\u001B[1;33m\u001B[0m\u001B[1;33m\u001B[0m\u001B[0m\n\u001B[0;32m   1184\u001B[0m         \u001B[1;32melse\u001B[0m\u001B[1;33m:\u001B[0m\u001B[1;33m\u001B[0m\u001B[1;33m\u001B[0m\u001B[0m\n\u001B[1;32m-> 1185\u001B[1;33m             \u001B[1;32mreturn\u001B[0m \u001B[0mnp\u001B[0m\u001B[1;33m.\u001B[0m\u001B[0mzeros\u001B[0m\u001B[1;33m(\u001B[0m\u001B[0mself\u001B[0m\u001B[1;33m.\u001B[0m\u001B[0mshape\u001B[0m\u001B[1;33m,\u001B[0m \u001B[0mdtype\u001B[0m\u001B[1;33m=\u001B[0m\u001B[0mself\u001B[0m\u001B[1;33m.\u001B[0m\u001B[0mdtype\u001B[0m\u001B[1;33m,\u001B[0m \u001B[0morder\u001B[0m\u001B[1;33m=\u001B[0m\u001B[0morder\u001B[0m\u001B[1;33m)\u001B[0m\u001B[1;33m\u001B[0m\u001B[1;33m\u001B[0m\u001B[0m\n\u001B[0m\u001B[0;32m   1186\u001B[0m \u001B[1;33m\u001B[0m\u001B[0m\n\u001B[0;32m   1187\u001B[0m \u001B[1;33m\u001B[0m\u001B[0m\n",
      "\u001B[1;31mMemoryError\u001B[0m: Unable to allocate 93.7 GiB for an array with shape (100919, 124612) and data type int64"
     ]
    }
   ],
   "source": [
    "import dataCluster\n",
    "\n",
    "clstr = dataCluster.DataCluster(dfN, 'nuclear-comment')\n",
    "clstr.generate_wordcountvector()\n",
    "clstr"
   ]
  }
 ],
 "metadata": {
  "kernelspec": {
   "display_name": "Python 3",
   "language": "python",
   "name": "python3"
  },
  "language_info": {
   "codemirror_mode": {
    "name": "ipython",
    "version": 3
   },
   "file_extension": ".py",
   "mimetype": "text/x-python",
   "name": "python",
   "nbconvert_exporter": "python",
   "pygments_lexer": "ipython3",
   "version": "3.8.5"
  }
 },
 "nbformat": 4,
 "nbformat_minor": 1
}