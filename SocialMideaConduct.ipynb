{
 "cells": [
  {
   "cell_type": "markdown",
   "metadata": {},
   "source": [
    "# 社交媒体网络技术处理 —— 社交网络评论/博客模块\n",
    "\n",
    "在本次的相关技术领域，我们尝试对项目结构进行模块化，用json格式文件进行读取，大致流程如下\n",
    "\n",
    "先读一下 json\n",
    "\n",
    "# 0 准备"
   ]
  },
  {
   "cell_type": "code",
   "execution_count": 8,
   "metadata": {
    "pycharm": {
     "name": "#%%\n"
    }
   },
   "outputs": [
    {
     "data": {
      "text/plain": [
       "'福岛 核'"
      ]
     },
     "execution_count": 8,
     "metadata": {},
     "output_type": "execute_result"
    }
   ],
   "source": [
    "import json\n",
    "with open(\"intro.json\",\"r\",encoding=\"utf-8\") as f:\n",
    "    json_data = json.load(f)\n",
    "username = json_data['username']\n",
    "password = json_data['password']\n",
    "webdriver_path = json_data['chrome_driver_location']\n",
    "useremail = json_data['useremail']\n",
    "data_store_location = json_data['data_store_location']\n",
    "result_analyse_location = json_data['result_analyse_location']\n",
    "result_picture = json_data['result_picture']\n",
    "keyword = json_data['keyword']\n",
    "keyword"
   ]
  },
  {
   "cell_type": "markdown",
   "metadata": {
    "pycharm": {
     "name": "#%% md\n"
    }
   },
   "source": [
    "## 1. 数据爬取\n",
    "\n",
    "可自行选定社交媒体网站，例如豆瓣，微博，知乎，微信公众号，今日头条等等，\n",
    "\n",
    "爬取小组选定分析主题相关的社交媒体文本评论数据（要求至少爬取10万条数据，请添加具体实现步骤、运行结果和相关截图）（1分）\n",
    "\n",
    "我们通过面向对象式写法实现跨模块的调用技术"
   ]
  },
  {
   "cell_type": "code",
   "execution_count": null,
   "metadata": {
    "pycharm": {
     "name": "#%%\n"
    }
   },
   "outputs": [],
   "source": [
    "from webSpyder.toutiaoSpyder import ToutiaoSpyder\n",
    "toutiao = ToutiaoSpyder(webdriver_path,keyword)\n",
    "toutiao.enter_key()\n",
    "toutiao.getSpyNews()\n",
    "toutiao.getSpyMicro()\n",
    "toutiao.store_mongoDB()\n",
    "\n",
    "# 知乎同理，进行数据获取时用到，爬取相关的评论和文章\n",
    "from webSpyder.zhihuSpyder import ZhiHuSpyder\n",
    "zhihu = ZhiHuSpyder(webdriver_path)\n",
    "zhihu.getComments()\n",
    "zhihu.getSpyContent()\n",
    "\n",
    "# 其他模型不再赘述"
   ]
  },
  {
   "cell_type": "markdown",
   "metadata": {
    "pycharm": {
     "name": "#%% md\n"
    }
   },
   "source": [
    "## 爬取数据预处理\n",
    "\n",
    "#### 1. 格式文本统一化\n",
    "\n",
    "我们的数据来源比较复杂，有来着知乎、头条、微博的数据，存储格式也大有不同，\n",
    "因此我们需要进行所有的数据归一化，同时执行相关的预处理操作\n",
    "\n",
    "预处理模块的代码参考dataProcessing.py ，包括内部的一系列情况"
   ]
  },
  {
   "cell_type": "code",
   "execution_count": 9,
   "metadata": {
    "pycharm": {
     "name": "#%%\n"
    }
   },
   "outputs": [
    {
     "name": "stdout",
     "output_type": "stream",
     "text": [
      "(43843, 12)\n",
      "(264000, 4)\n",
      "(55924, 13)\n",
      "whole raw data:  363767\n"
     ]
    }
   ],
   "source": [
    "import pandas as pd\n",
    "import dataProcessing as dp\n",
    "\n",
    "excelData = data_store_location+'/excelData'\n",
    "mongoData = data_store_location+'/mongoData'\n",
    "otherData = data_store_location+'/otherData'\n",
    "\n",
    "excel = dp.multi_excel_combine(excelData)\n",
    "mongo = dp.multi_csv_combine(mongoData)\n",
    "other = dp.multi_csv_combine(otherData)\n",
    "print(excel.shape)\n",
    "print(mongo.shape)\n",
    "print(other.shape)\n",
    "print(\"whole raw data: \",excel.shape[0]+mongo.shape[0]+other.shape[0])"
   ]
  },
  {
   "cell_type": "markdown",
   "metadata": {
    "pycharm": {
     "name": "#%% md\n"
    }
   },
   "source": [
    "可以看到未处理原始评论数据集有20w条左右，下面对这些数据进行处理整合"
   ]
  },
  {
   "cell_type": "code",
   "execution_count": 10,
   "metadata": {
    "pycharm": {
     "name": "#%%\n"
    }
   },
   "outputs": [
    {
     "data": {
      "text/html": [
       "<div>\n",
       "<style scoped>\n",
       "    .dataframe tbody tr th:only-of-type {\n",
       "        vertical-align: middle;\n",
       "    }\n",
       "\n",
       "    .dataframe tbody tr th {\n",
       "        vertical-align: top;\n",
       "    }\n",
       "\n",
       "    .dataframe thead th {\n",
       "        text-align: right;\n",
       "    }\n",
       "</style>\n",
       "<table border=\"1\" class=\"dataframe\">\n",
       "  <thead>\n",
       "    <tr style=\"text-align: right;\">\n",
       "      <th></th>\n",
       "      <th>author</th>\n",
       "      <th>content</th>\n",
       "      <th>time</th>\n",
       "    </tr>\n",
       "  </thead>\n",
       "  <tbody>\n",
       "    <tr>\n",
       "      <th>0</th>\n",
       "      <td>Alexliao-Taiwan</td>\n",
       "      <td>希望你平安@Greenbrothers：现在十分担心福岛核电站的核泄漏，最糟糕的情况核泄漏会...</td>\n",
       "      <td>2011年03月13日 23:38</td>\n",
       "    </tr>\n",
       "    <tr>\n",
       "      <th>1</th>\n",
       "      <td>成都商报</td>\n",
       "      <td>#聚焦日本地震#据日本新闻网报道，美国原子能委员会和美国能源部的一个专家小组今(13日)夜启...</td>\n",
       "      <td>2011年03月13日 23:29</td>\n",
       "    </tr>\n",
       "    <tr>\n",
       "      <th>2</th>\n",
       "      <td>东山讲坛</td>\n",
       "      <td>#东京~日本~地震~海啸~爆炸#中新网3月13日电 据日本新闻网报道，美国原子能委员会和美国...</td>\n",
       "      <td>2011年03月13日 23:21</td>\n",
       "    </tr>\n",
       "    <tr>\n",
       "      <th>3</th>\n",
       "      <td>长江日报</td>\n",
       "      <td>凤凰李淼：福岛核泄漏，日政府最初非常谨慎，公布信息很少，国民一度非常紧张。原子能保安院官员记...</td>\n",
       "      <td>2011年03月13日 23:11</td>\n",
       "    </tr>\n",
       "    <tr>\n",
       "      <th>4</th>\n",
       "      <td>酿青椒</td>\n",
       "      <td>福岛第一第二核电所属的东京电力社长出来向公众谢罪，说跟设备老化比起来，海啸才是使机械失效引发...</td>\n",
       "      <td>2011年03月13日 23:04</td>\n",
       "    </tr>\n",
       "    <tr>\n",
       "      <th>5</th>\n",
       "      <td>完美仙剑217</td>\n",
       "      <td>哎，日本这次，核泄漏，火山爆发，海啸……哎…………可怜的日本…………不知道这次是宫城县和福岛...</td>\n",
       "      <td>2011年03月13日 23:01</td>\n",
       "    </tr>\n",
       "    <tr>\n",
       "      <th>6</th>\n",
       "      <td>梓蒙2011</td>\n",
       "      <td>//@凤凰李淼: 福岛3号核电站随时可能爆炸。不过不是核反应堆爆炸，但即使同1号一样，是氢气...</td>\n",
       "      <td>2011年03月13日 22:56</td>\n",
       "    </tr>\n",
       "    <tr>\n",
       "      <th>7</th>\n",
       "      <td>梓蒙2011</td>\n",
       "      <td>//@凤凰李淼: 福岛核泄漏，日本政府最初调查非常谨慎，公布的信息很少，国民一度非常紧张。原...</td>\n",
       "      <td>2011年03月13日 22:52</td>\n",
       "    </tr>\n",
       "    <tr>\n",
       "      <th>8</th>\n",
       "      <td>微速报</td>\n",
       "      <td>美国原子能委员会和美国能源部专家小组13日晚启程赶赴日本，将协助日本政府处理福岛核电站的核泄...</td>\n",
       "      <td>2011年03月13日 22:50</td>\n",
       "    </tr>\n",
       "    <tr>\n",
       "      <th>9</th>\n",
       "      <td>Pug先生</td>\n",
       "      <td>日本核泄漏都慌妈逼啊？还记得1945年美国干了什么吗？美国佬给小日本丢了两颗原子弹！原子弹啊...</td>\n",
       "      <td>2011年03月17日 23:41</td>\n",
       "    </tr>\n",
       "  </tbody>\n",
       "</table>\n",
       "</div>"
      ],
      "text/plain": [
       "            author                                            content  \\\n",
       "0  Alexliao-Taiwan  希望你平安@Greenbrothers：现在十分担心福岛核电站的核泄漏，最糟糕的情况核泄漏会...   \n",
       "1             成都商报  #聚焦日本地震#据日本新闻网报道，美国原子能委员会和美国能源部的一个专家小组今(13日)夜启...   \n",
       "2             东山讲坛  #东京~日本~地震~海啸~爆炸#中新网3月13日电 据日本新闻网报道，美国原子能委员会和美国...   \n",
       "3             长江日报  凤凰李淼：福岛核泄漏，日政府最初非常谨慎，公布信息很少，国民一度非常紧张。原子能保安院官员记...   \n",
       "4              酿青椒  福岛第一第二核电所属的东京电力社长出来向公众谢罪，说跟设备老化比起来，海啸才是使机械失效引发...   \n",
       "5          完美仙剑217  哎，日本这次，核泄漏，火山爆发，海啸……哎…………可怜的日本…………不知道这次是宫城县和福岛...   \n",
       "6           梓蒙2011  //@凤凰李淼: 福岛3号核电站随时可能爆炸。不过不是核反应堆爆炸，但即使同1号一样，是氢气...   \n",
       "7           梓蒙2011  //@凤凰李淼: 福岛核泄漏，日本政府最初调查非常谨慎，公布的信息很少，国民一度非常紧张。原...   \n",
       "8              微速报  美国原子能委员会和美国能源部专家小组13日晚启程赶赴日本，将协助日本政府处理福岛核电站的核泄...   \n",
       "9            Pug先生  日本核泄漏都慌妈逼啊？还记得1945年美国干了什么吗？美国佬给小日本丢了两颗原子弹！原子弹啊...   \n",
       "\n",
       "                time  \n",
       "0  2011年03月13日 23:38  \n",
       "1  2011年03月13日 23:29  \n",
       "2  2011年03月13日 23:21  \n",
       "3  2011年03月13日 23:11  \n",
       "4  2011年03月13日 23:04  \n",
       "5  2011年03月13日 23:01  \n",
       "6  2011年03月13日 22:56  \n",
       "7  2011年03月13日 22:52  \n",
       "8  2011年03月13日 22:50  \n",
       "9  2011年03月17日 23:41  "
      ]
     },
     "execution_count": 10,
     "metadata": {},
     "output_type": "execute_result"
    }
   ],
   "source": [
    "# 集体去重,先处理微博的情况\n",
    "df_weibo_excel = dp.data_renameweibo(excel)\n",
    "df_weibo_other = dp.data_renameweibo(other)\n",
    "\n",
    "# 对excel和other下的微博数据集体抽取并合并起来\n",
    "dfA = dp.data_cut(df_weibo_excel)\n",
    "dfB = dp.data_cut(df_weibo_other)\n",
    "mg = dp.data_cut(mongo)\n",
    "\n",
    "dfAB = dp.multi_pd_combine(dfA, dfB)\n",
    "dfABC = dp.multi_pd_combine(dfAB, mg)\n",
    "dfABC.head(10)"
   ]
  },
  {
   "cell_type": "markdown",
   "metadata": {},
   "source": [
    "pandas中，isnull()是常用的缺失值查看方法：\n",
    "\n",
    "    df.isnull():查看所有数据是否为缺失值，返回bool值。True：缺失值；False：不是缺失值。\n",
    "    df.isnull().any():查看每个特征是否存在缺失值，返回bool值。\n",
    "    df.isnll().sum():返回每个特征中缺失值的具体数量。\n",
    "\n"
   ]
  },
  {
   "cell_type": "code",
   "execution_count": 11,
   "metadata": {
    "pycharm": {
     "name": "#%%\n"
    }
   },
   "outputs": [
    {
     "name": "stdout",
     "output_type": "stream",
     "text": [
      "author      465\n",
      "content    1876\n",
      "time          0\n",
      "dtype: int64\n"
     ]
    },
    {
     "data": {
      "text/html": [
       "<div>\n",
       "<style scoped>\n",
       "    .dataframe tbody tr th:only-of-type {\n",
       "        vertical-align: middle;\n",
       "    }\n",
       "\n",
       "    .dataframe tbody tr th {\n",
       "        vertical-align: top;\n",
       "    }\n",
       "\n",
       "    .dataframe thead th {\n",
       "        text-align: right;\n",
       "    }\n",
       "</style>\n",
       "<table border=\"1\" class=\"dataframe\">\n",
       "  <thead>\n",
       "    <tr style=\"text-align: right;\">\n",
       "      <th></th>\n",
       "      <th>author</th>\n",
       "      <th>content</th>\n",
       "      <th>time</th>\n",
       "    </tr>\n",
       "  </thead>\n",
       "  <tbody>\n",
       "    <tr>\n",
       "      <th>0</th>\n",
       "      <td>Alexliao-Taiwan</td>\n",
       "      <td>希望你平安@Greenbrothers：现在十分担心福岛核电站的核泄漏，最糟糕的情况核泄漏会...</td>\n",
       "      <td>2011年03月13日 23:38</td>\n",
       "    </tr>\n",
       "    <tr>\n",
       "      <th>1</th>\n",
       "      <td>成都商报</td>\n",
       "      <td>#聚焦日本地震#据日本新闻网报道，美国原子能委员会和美国能源部的一个专家小组今(13日)夜启...</td>\n",
       "      <td>2011年03月13日 23:29</td>\n",
       "    </tr>\n",
       "    <tr>\n",
       "      <th>2</th>\n",
       "      <td>东山讲坛</td>\n",
       "      <td>#东京~日本~地震~海啸~爆炸#中新网3月13日电 据日本新闻网报道，美国原子能委员会和美国...</td>\n",
       "      <td>2011年03月13日 23:21</td>\n",
       "    </tr>\n",
       "    <tr>\n",
       "      <th>3</th>\n",
       "      <td>长江日报</td>\n",
       "      <td>凤凰李淼：福岛核泄漏，日政府最初非常谨慎，公布信息很少，国民一度非常紧张。原子能保安院官员记...</td>\n",
       "      <td>2011年03月13日 23:11</td>\n",
       "    </tr>\n",
       "    <tr>\n",
       "      <th>4</th>\n",
       "      <td>酿青椒</td>\n",
       "      <td>福岛第一第二核电所属的东京电力社长出来向公众谢罪，说跟设备老化比起来，海啸才是使机械失效引发...</td>\n",
       "      <td>2011年03月13日 23:04</td>\n",
       "    </tr>\n",
       "    <tr>\n",
       "      <th>...</th>\n",
       "      <td>...</td>\n",
       "      <td>...</td>\n",
       "      <td>...</td>\n",
       "    </tr>\n",
       "    <tr>\n",
       "      <th>361421</th>\n",
       "      <td>知乎用户</td>\n",
       "      <td>我一个准备去加国留学的看完心里怕怕的 惜命~_~</td>\n",
       "      <td>2017-02-13</td>\n",
       "    </tr>\n",
       "    <tr>\n",
       "      <th>361422</th>\n",
       "      <td>L-清源</td>\n",
       "      <td>如果短期旅游有什么影响吗？</td>\n",
       "      <td>2017-02-13</td>\n",
       "    </tr>\n",
       "    <tr>\n",
       "      <th>361423</th>\n",
       "      <td>黄sir</td>\n",
       "      <td>这个……事实上答主春节刚从日本旅游回来，还买了些化妆品 〒▽〒 不过仅限于去东京以东。不过大...</td>\n",
       "      <td>2017-02-12</td>\n",
       "    </tr>\n",
       "    <tr>\n",
       "      <th>361424</th>\n",
       "      <td>Siqi Xia (作者)</td>\n",
       "      <td>天呐 请问哪些地方要注意不能去呢？我还准备四五月份去玩来着 去那玩还能吃海鲜那类吗？现在日本...</td>\n",
       "      <td>2017-02-12</td>\n",
       "    </tr>\n",
       "    <tr>\n",
       "      <th>361425</th>\n",
       "      <td>荷喵</td>\n",
       "      <td>好厉害的分析啊</td>\n",
       "      <td>2017-02-12</td>\n",
       "    </tr>\n",
       "  </tbody>\n",
       "</table>\n",
       "<p>361426 rows × 3 columns</p>\n",
       "</div>"
      ],
      "text/plain": [
       "                 author                                            content  \\\n",
       "0       Alexliao-Taiwan  希望你平安@Greenbrothers：现在十分担心福岛核电站的核泄漏，最糟糕的情况核泄漏会...   \n",
       "1                  成都商报  #聚焦日本地震#据日本新闻网报道，美国原子能委员会和美国能源部的一个专家小组今(13日)夜启...   \n",
       "2                  东山讲坛  #东京~日本~地震~海啸~爆炸#中新网3月13日电 据日本新闻网报道，美国原子能委员会和美国...   \n",
       "3                  长江日报  凤凰李淼：福岛核泄漏，日政府最初非常谨慎，公布信息很少，国民一度非常紧张。原子能保安院官员记...   \n",
       "4                   酿青椒  福岛第一第二核电所属的东京电力社长出来向公众谢罪，说跟设备老化比起来，海啸才是使机械失效引发...   \n",
       "...                 ...                                                ...   \n",
       "361421             知乎用户                           我一个准备去加国留学的看完心里怕怕的 惜命~_~   \n",
       "361422             L-清源                                      如果短期旅游有什么影响吗？   \n",
       "361423             黄sir  这个……事实上答主春节刚从日本旅游回来，还买了些化妆品 〒▽〒 不过仅限于去东京以东。不过大...   \n",
       "361424   Siqi Xia (作者)   天呐 请问哪些地方要注意不能去呢？我还准备四五月份去玩来着 去那玩还能吃海鲜那类吗？现在日本...   \n",
       "361425               荷喵                                            好厉害的分析啊   \n",
       "\n",
       "                     time  \n",
       "0       2011年03月13日 23:38  \n",
       "1       2011年03月13日 23:29  \n",
       "2       2011年03月13日 23:21  \n",
       "3       2011年03月13日 23:11  \n",
       "4       2011年03月13日 23:04  \n",
       "...                   ...  \n",
       "361421         2017-02-13  \n",
       "361422         2017-02-13  \n",
       "361423         2017-02-12  \n",
       "361424         2017-02-12  \n",
       "361425         2017-02-12  \n",
       "\n",
       "[361426 rows x 3 columns]"
      ]
     },
     "execution_count": 11,
     "metadata": {},
     "output_type": "execute_result"
    }
   ],
   "source": [
    "dp.show_nan_data(dfABC)\n",
    "\n",
    "dfABC=dfABC.dropna(axis=0, subset= ['content']).dropna(axis=0,subset=['author'])\n",
    "dfABC.reset_index(drop=True,inplace=True)#drop=True：删除原行索引；inplace=True:在数据上进行更新\n",
    "\n",
    "dfABC"
   ]
  },
  {
   "cell_type": "code",
   "execution_count": 12,
   "metadata": {},
   "outputs": [
    {
     "name": "stdout",
     "output_type": "stream",
     "text": [
      "author     0\n",
      "content    0\n",
      "time       0\n",
      "dtype: int64\n"
     ]
    }
   ],
   "source": [
    "dp.show_nan_data(dfABC)"
   ]
  },
  {
   "cell_type": "code",
   "execution_count": 13,
   "metadata": {},
   "outputs": [
    {
     "data": {
      "text/html": [
       "<div>\n",
       "<style scoped>\n",
       "    .dataframe tbody tr th:only-of-type {\n",
       "        vertical-align: middle;\n",
       "    }\n",
       "\n",
       "    .dataframe tbody tr th {\n",
       "        vertical-align: top;\n",
       "    }\n",
       "\n",
       "    .dataframe thead th {\n",
       "        text-align: right;\n",
       "    }\n",
       "</style>\n",
       "<table border=\"1\" class=\"dataframe\">\n",
       "  <thead>\n",
       "    <tr style=\"text-align: right;\">\n",
       "      <th></th>\n",
       "      <th>author</th>\n",
       "      <th>content</th>\n",
       "      <th>time</th>\n",
       "    </tr>\n",
       "  </thead>\n",
       "  <tbody>\n",
       "    <tr>\n",
       "      <th>0</th>\n",
       "      <td>Alexliao-Taiwan</td>\n",
       "      <td>希望你平安@Greenbrothers：现在十分担心福岛核电站的核泄漏，最糟糕的情况核泄漏会...</td>\n",
       "      <td>2011年03月13日 23:38</td>\n",
       "    </tr>\n",
       "    <tr>\n",
       "      <th>1</th>\n",
       "      <td>成都商报</td>\n",
       "      <td>#聚焦日本地震#据日本新闻网报道，美国原子能委员会和美国能源部的一个专家小组今(13日)夜启...</td>\n",
       "      <td>2011年03月13日 23:29</td>\n",
       "    </tr>\n",
       "    <tr>\n",
       "      <th>2</th>\n",
       "      <td>东山讲坛</td>\n",
       "      <td>#东京~日本~地震~海啸~爆炸#中新网3月13日电 据日本新闻网报道，美国原子能委员会和美国...</td>\n",
       "      <td>2011年03月13日 23:21</td>\n",
       "    </tr>\n",
       "    <tr>\n",
       "      <th>3</th>\n",
       "      <td>长江日报</td>\n",
       "      <td>凤凰李淼：福岛核泄漏，日政府最初非常谨慎，公布信息很少，国民一度非常紧张。原子能保安院官员记...</td>\n",
       "      <td>2011年03月13日 23:11</td>\n",
       "    </tr>\n",
       "    <tr>\n",
       "      <th>4</th>\n",
       "      <td>酿青椒</td>\n",
       "      <td>福岛第一第二核电所属的东京电力社长出来向公众谢罪，说跟设备老化比起来，海啸才是使机械失效引发...</td>\n",
       "      <td>2011年03月13日 23:04</td>\n",
       "    </tr>\n",
       "    <tr>\n",
       "      <th>...</th>\n",
       "      <td>...</td>\n",
       "      <td>...</td>\n",
       "      <td>...</td>\n",
       "    </tr>\n",
       "    <tr>\n",
       "      <th>361421</th>\n",
       "      <td>知乎用户</td>\n",
       "      <td>我一个准备去加国留学的看完心里怕怕的 惜命~_~</td>\n",
       "      <td>2017-02-13</td>\n",
       "    </tr>\n",
       "    <tr>\n",
       "      <th>361422</th>\n",
       "      <td>L-清源</td>\n",
       "      <td>如果短期旅游有什么影响吗？</td>\n",
       "      <td>2017-02-13</td>\n",
       "    </tr>\n",
       "    <tr>\n",
       "      <th>361423</th>\n",
       "      <td>黄sir</td>\n",
       "      <td>这个……事实上答主春节刚从日本旅游回来，还买了些化妆品 〒▽〒 不过仅限于去东京以东。不过大...</td>\n",
       "      <td>2017-02-12</td>\n",
       "    </tr>\n",
       "    <tr>\n",
       "      <th>361424</th>\n",
       "      <td>Siqi Xia (作者)</td>\n",
       "      <td>天呐 请问哪些地方要注意不能去呢？我还准备四五月份去玩来着 去那玩还能吃海鲜那类吗？现在日本...</td>\n",
       "      <td>2017-02-12</td>\n",
       "    </tr>\n",
       "    <tr>\n",
       "      <th>361425</th>\n",
       "      <td>荷喵</td>\n",
       "      <td>好厉害的分析啊</td>\n",
       "      <td>2017-02-12</td>\n",
       "    </tr>\n",
       "  </tbody>\n",
       "</table>\n",
       "<p>361426 rows × 3 columns</p>\n",
       "</div>"
      ],
      "text/plain": [
       "                 author                                            content  \\\n",
       "0       Alexliao-Taiwan  希望你平安@Greenbrothers：现在十分担心福岛核电站的核泄漏，最糟糕的情况核泄漏会...   \n",
       "1                  成都商报  #聚焦日本地震#据日本新闻网报道，美国原子能委员会和美国能源部的一个专家小组今(13日)夜启...   \n",
       "2                  东山讲坛  #东京~日本~地震~海啸~爆炸#中新网3月13日电 据日本新闻网报道，美国原子能委员会和美国...   \n",
       "3                  长江日报  凤凰李淼：福岛核泄漏，日政府最初非常谨慎，公布信息很少，国民一度非常紧张。原子能保安院官员记...   \n",
       "4                   酿青椒  福岛第一第二核电所属的东京电力社长出来向公众谢罪，说跟设备老化比起来，海啸才是使机械失效引发...   \n",
       "...                 ...                                                ...   \n",
       "361421             知乎用户                           我一个准备去加国留学的看完心里怕怕的 惜命~_~   \n",
       "361422             L-清源                                      如果短期旅游有什么影响吗？   \n",
       "361423             黄sir  这个……事实上答主春节刚从日本旅游回来，还买了些化妆品 〒▽〒 不过仅限于去东京以东。不过大...   \n",
       "361424   Siqi Xia (作者)   天呐 请问哪些地方要注意不能去呢？我还准备四五月份去玩来着 去那玩还能吃海鲜那类吗？现在日本...   \n",
       "361425               荷喵                                            好厉害的分析啊   \n",
       "\n",
       "                     time  \n",
       "0       2011年03月13日 23:38  \n",
       "1       2011年03月13日 23:29  \n",
       "2       2011年03月13日 23:21  \n",
       "3       2011年03月13日 23:11  \n",
       "4       2011年03月13日 23:04  \n",
       "...                   ...  \n",
       "361421         2017-02-13  \n",
       "361422         2017-02-13  \n",
       "361423         2017-02-12  \n",
       "361424         2017-02-12  \n",
       "361425         2017-02-12  \n",
       "\n",
       "[361426 rows x 3 columns]"
      ]
     },
     "execution_count": 13,
     "metadata": {},
     "output_type": "execute_result"
    }
   ],
   "source": [
    "dfABC"
   ]
  },
  {
   "cell_type": "markdown",
   "metadata": {},
   "source": [
    "可以看到缺失值已经被处理了，下面我们尝试去除重复值\n",
    "\n",
    "pandas中，除去重复值的常用方法为drop_duplicate，其基本格式如下：\n",
    "\n",
    "**DataFrame.drop_duplicates(subset=None, keep='first', inplace=False)：**\n",
    "\n",
    "关键参数详解：\n",
    "\n",
    "    subset:用来指定特定的列，默认所有列；\n",
    "    keep: {'first', 'last', False}。默认值为'first'，用于删除重复项并保留第一次出现的项；\n",
    "    inplace:是直接在原来数据上修改还是保留一个副本，默认是False"
   ]
  },
  {
   "cell_type": "code",
   "execution_count": 14,
   "metadata": {},
   "outputs": [
    {
     "data": {
      "text/html": [
       "<div>\n",
       "<style scoped>\n",
       "    .dataframe tbody tr th:only-of-type {\n",
       "        vertical-align: middle;\n",
       "    }\n",
       "\n",
       "    .dataframe tbody tr th {\n",
       "        vertical-align: top;\n",
       "    }\n",
       "\n",
       "    .dataframe thead th {\n",
       "        text-align: right;\n",
       "    }\n",
       "</style>\n",
       "<table border=\"1\" class=\"dataframe\">\n",
       "  <thead>\n",
       "    <tr style=\"text-align: right;\">\n",
       "      <th></th>\n",
       "      <th>author</th>\n",
       "      <th>content</th>\n",
       "      <th>time</th>\n",
       "    </tr>\n",
       "  </thead>\n",
       "  <tbody>\n",
       "    <tr>\n",
       "      <th>0</th>\n",
       "      <td>Alexliao-Taiwan</td>\n",
       "      <td>希望你平安@Greenbrothers：现在十分担心福岛核电站的核泄漏，最糟糕的情况核泄漏会...</td>\n",
       "      <td>2011年03月13日 23:38</td>\n",
       "    </tr>\n",
       "    <tr>\n",
       "      <th>1</th>\n",
       "      <td>成都商报</td>\n",
       "      <td>#聚焦日本地震#据日本新闻网报道，美国原子能委员会和美国能源部的一个专家小组今(13日)夜启...</td>\n",
       "      <td>2011年03月13日 23:29</td>\n",
       "    </tr>\n",
       "    <tr>\n",
       "      <th>2</th>\n",
       "      <td>东山讲坛</td>\n",
       "      <td>#东京~日本~地震~海啸~爆炸#中新网3月13日电 据日本新闻网报道，美国原子能委员会和美国...</td>\n",
       "      <td>2011年03月13日 23:21</td>\n",
       "    </tr>\n",
       "    <tr>\n",
       "      <th>3</th>\n",
       "      <td>长江日报</td>\n",
       "      <td>凤凰李淼：福岛核泄漏，日政府最初非常谨慎，公布信息很少，国民一度非常紧张。原子能保安院官员记...</td>\n",
       "      <td>2011年03月13日 23:11</td>\n",
       "    </tr>\n",
       "    <tr>\n",
       "      <th>4</th>\n",
       "      <td>酿青椒</td>\n",
       "      <td>福岛第一第二核电所属的东京电力社长出来向公众谢罪，说跟设备老化比起来，海啸才是使机械失效引发...</td>\n",
       "      <td>2011年03月13日 23:04</td>\n",
       "    </tr>\n",
       "    <tr>\n",
       "      <th>...</th>\n",
       "      <td>...</td>\n",
       "      <td>...</td>\n",
       "      <td>...</td>\n",
       "    </tr>\n",
       "    <tr>\n",
       "      <th>101088</th>\n",
       "      <td>知乎用户</td>\n",
       "      <td>我一个准备去加国留学的看完心里怕怕的 惜命~_~</td>\n",
       "      <td>2017-02-13</td>\n",
       "    </tr>\n",
       "    <tr>\n",
       "      <th>101089</th>\n",
       "      <td>L-清源</td>\n",
       "      <td>如果短期旅游有什么影响吗？</td>\n",
       "      <td>2017-02-13</td>\n",
       "    </tr>\n",
       "    <tr>\n",
       "      <th>101090</th>\n",
       "      <td>黄sir</td>\n",
       "      <td>这个……事实上答主春节刚从日本旅游回来，还买了些化妆品 〒▽〒 不过仅限于去东京以东。不过大...</td>\n",
       "      <td>2017-02-12</td>\n",
       "    </tr>\n",
       "    <tr>\n",
       "      <th>101091</th>\n",
       "      <td>Siqi Xia (作者)</td>\n",
       "      <td>天呐 请问哪些地方要注意不能去呢？我还准备四五月份去玩来着 去那玩还能吃海鲜那类吗？现在日本...</td>\n",
       "      <td>2017-02-12</td>\n",
       "    </tr>\n",
       "    <tr>\n",
       "      <th>101092</th>\n",
       "      <td>荷喵</td>\n",
       "      <td>好厉害的分析啊</td>\n",
       "      <td>2017-02-12</td>\n",
       "    </tr>\n",
       "  </tbody>\n",
       "</table>\n",
       "<p>101093 rows × 3 columns</p>\n",
       "</div>"
      ],
      "text/plain": [
       "                 author                                            content  \\\n",
       "0       Alexliao-Taiwan  希望你平安@Greenbrothers：现在十分担心福岛核电站的核泄漏，最糟糕的情况核泄漏会...   \n",
       "1                  成都商报  #聚焦日本地震#据日本新闻网报道，美国原子能委员会和美国能源部的一个专家小组今(13日)夜启...   \n",
       "2                  东山讲坛  #东京~日本~地震~海啸~爆炸#中新网3月13日电 据日本新闻网报道，美国原子能委员会和美国...   \n",
       "3                  长江日报  凤凰李淼：福岛核泄漏，日政府最初非常谨慎，公布信息很少，国民一度非常紧张。原子能保安院官员记...   \n",
       "4                   酿青椒  福岛第一第二核电所属的东京电力社长出来向公众谢罪，说跟设备老化比起来，海啸才是使机械失效引发...   \n",
       "...                 ...                                                ...   \n",
       "101088             知乎用户                           我一个准备去加国留学的看完心里怕怕的 惜命~_~   \n",
       "101089             L-清源                                      如果短期旅游有什么影响吗？   \n",
       "101090             黄sir  这个……事实上答主春节刚从日本旅游回来，还买了些化妆品 〒▽〒 不过仅限于去东京以东。不过大...   \n",
       "101091   Siqi Xia (作者)   天呐 请问哪些地方要注意不能去呢？我还准备四五月份去玩来着 去那玩还能吃海鲜那类吗？现在日本...   \n",
       "101092               荷喵                                            好厉害的分析啊   \n",
       "\n",
       "                     time  \n",
       "0       2011年03月13日 23:38  \n",
       "1       2011年03月13日 23:29  \n",
       "2       2011年03月13日 23:21  \n",
       "3       2011年03月13日 23:11  \n",
       "4       2011年03月13日 23:04  \n",
       "...                   ...  \n",
       "101088         2017-02-13  \n",
       "101089         2017-02-13  \n",
       "101090         2017-02-12  \n",
       "101091         2017-02-12  \n",
       "101092         2017-02-12  \n",
       "\n",
       "[101093 rows x 3 columns]"
      ]
     },
     "execution_count": 14,
     "metadata": {},
     "output_type": "execute_result"
    }
   ],
   "source": [
    "# 测试样例文档\n",
    "dfN = dfABC.drop_duplicates(['content', 'author'],keep='last')\n",
    "dfN.reset_index(drop=True,inplace=True)#drop=True：删除原行索引；inplace=True:在数据上进行更新\n",
    "\n",
    "dfN"
   ]
  },
  {
   "cell_type": "markdown",
   "metadata": {},
   "source": [
    "### 无效符号去除"
   ]
  },
  {
   "cell_type": "markdown",
   "metadata": {},
   "source": [
    "下面进行去除或替换一些无效或不需要的信息，比如特殊字符、标点符号等。\n",
    "请注意： 由于可能部分知乎的数据可能比较特殊，如“？？？？”这类的评论，去掉符号以后只有空的值了，因此需要再进行一次预处理，即再去掉横向空值，如果没有就OK"
   ]
  },
  {
   "cell_type": "code",
   "execution_count": 15,
   "metadata": {},
   "outputs": [
    {
     "name": "stderr",
     "output_type": "stream",
     "text": [
      "<ipython-input-15-193a5cac010d>:1: SettingWithCopyWarning: \n",
      "A value is trying to be set on a copy of a slice from a DataFrame.\n",
      "Try using .loc[row_indexer,col_indexer] = value instead\n",
      "\n",
      "See the caveats in the documentation: https://pandas.pydata.org/pandas-docs/stable/user_guide/indexing.html#returning-a-view-versus-a-copy\n",
      "  dfN['content'] = dfN['content'].str.replace(r'[^\\w]+', '')\n"
     ]
    },
    {
     "data": {
      "text/html": [
       "<div>\n",
       "<style scoped>\n",
       "    .dataframe tbody tr th:only-of-type {\n",
       "        vertical-align: middle;\n",
       "    }\n",
       "\n",
       "    .dataframe tbody tr th {\n",
       "        vertical-align: top;\n",
       "    }\n",
       "\n",
       "    .dataframe thead th {\n",
       "        text-align: right;\n",
       "    }\n",
       "</style>\n",
       "<table border=\"1\" class=\"dataframe\">\n",
       "  <thead>\n",
       "    <tr style=\"text-align: right;\">\n",
       "      <th></th>\n",
       "      <th>author</th>\n",
       "      <th>content</th>\n",
       "      <th>time</th>\n",
       "    </tr>\n",
       "  </thead>\n",
       "  <tbody>\n",
       "    <tr>\n",
       "      <th>0</th>\n",
       "      <td>Alexliao-Taiwan</td>\n",
       "      <td>希望你平安Greenbrothers现在十分担心福岛核电站的核泄漏最糟糕的情况核泄漏会波及到...</td>\n",
       "      <td>2011年03月13日 23:38</td>\n",
       "    </tr>\n",
       "    <tr>\n",
       "      <th>1</th>\n",
       "      <td>成都商报</td>\n",
       "      <td>聚焦日本地震据日本新闻网报道美国原子能委员会和美国能源部的一个专家小组今13日夜启程赶来日本...</td>\n",
       "      <td>2011年03月13日 23:29</td>\n",
       "    </tr>\n",
       "    <tr>\n",
       "      <th>2</th>\n",
       "      <td>东山讲坛</td>\n",
       "      <td>东京日本地震海啸爆炸中新网3月13日电据日本新闻网报道美国原子能委员会和美国能源部的一个专家...</td>\n",
       "      <td>2011年03月13日 23:21</td>\n",
       "    </tr>\n",
       "    <tr>\n",
       "      <th>3</th>\n",
       "      <td>长江日报</td>\n",
       "      <td>凤凰李淼福岛核泄漏日政府最初非常谨慎公布信息很少国民一度非常紧张原子能保安院官员记者会也都是...</td>\n",
       "      <td>2011年03月13日 23:11</td>\n",
       "    </tr>\n",
       "    <tr>\n",
       "      <th>4</th>\n",
       "      <td>酿青椒</td>\n",
       "      <td>福岛第一第二核电所属的东京电力社长出来向公众谢罪说跟设备老化比起来海啸才是使机械失效引发事故...</td>\n",
       "      <td>2011年03月13日 23:04</td>\n",
       "    </tr>\n",
       "  </tbody>\n",
       "</table>\n",
       "</div>"
      ],
      "text/plain": [
       "            author                                            content  \\\n",
       "0  Alexliao-Taiwan  希望你平安Greenbrothers现在十分担心福岛核电站的核泄漏最糟糕的情况核泄漏会波及到...   \n",
       "1             成都商报  聚焦日本地震据日本新闻网报道美国原子能委员会和美国能源部的一个专家小组今13日夜启程赶来日本...   \n",
       "2             东山讲坛  东京日本地震海啸爆炸中新网3月13日电据日本新闻网报道美国原子能委员会和美国能源部的一个专家...   \n",
       "3             长江日报  凤凰李淼福岛核泄漏日政府最初非常谨慎公布信息很少国民一度非常紧张原子能保安院官员记者会也都是...   \n",
       "4              酿青椒  福岛第一第二核电所属的东京电力社长出来向公众谢罪说跟设备老化比起来海啸才是使机械失效引发事故...   \n",
       "\n",
       "                time  \n",
       "0  2011年03月13日 23:38  \n",
       "1  2011年03月13日 23:29  \n",
       "2  2011年03月13日 23:21  \n",
       "3  2011年03月13日 23:11  \n",
       "4  2011年03月13日 23:04  "
      ]
     },
     "execution_count": 15,
     "metadata": {},
     "output_type": "execute_result"
    }
   ],
   "source": [
    "dfN['content'] = dfN['content'].str.replace(r'[^\\w]+', '')\n",
    "dfN.head()"
   ]
  },
  {
   "cell_type": "code",
   "execution_count": 16,
   "metadata": {},
   "outputs": [
    {
     "name": "stdout",
     "output_type": "stream",
     "text": [
      "174\n"
     ]
    }
   ],
   "source": [
    "number = 0\n",
    "for i in dfN['content'].values:\n",
    "    if i == '':\n",
    "        number+=1\n",
    "print(number)"
   ]
  },
  {
   "cell_type": "markdown",
   "metadata": {},
   "source": [
    "可以发现有这些数据content删除之后变成没有内容的假空值（但不是真空值 **\"\" != None**），但这类没有意义，也不适合作为重复值舍去\n",
    "\n",
    "接下来我们对这类异常值进行预处理，直接把这一行的数据丢掉"
   ]
  },
  {
   "cell_type": "code",
   "execution_count": 17,
   "metadata": {},
   "outputs": [
    {
     "name": "stderr",
     "output_type": "stream",
     "text": [
      "F:\\Anaconda3\\lib\\site-packages\\pandas\\core\\series.py:4563: SettingWithCopyWarning: \n",
      "A value is trying to be set on a copy of a slice from a DataFrame\n",
      "\n",
      "See the caveats in the documentation: https://pandas.pydata.org/pandas-docs/stable/user_guide/indexing.html#returning-a-view-versus-a-copy\n",
      "  return super().replace(\n"
     ]
    },
    {
     "data": {
      "text/html": [
       "<div>\n",
       "<style scoped>\n",
       "    .dataframe tbody tr th:only-of-type {\n",
       "        vertical-align: middle;\n",
       "    }\n",
       "\n",
       "    .dataframe tbody tr th {\n",
       "        vertical-align: top;\n",
       "    }\n",
       "\n",
       "    .dataframe thead th {\n",
       "        text-align: right;\n",
       "    }\n",
       "</style>\n",
       "<table border=\"1\" class=\"dataframe\">\n",
       "  <thead>\n",
       "    <tr style=\"text-align: right;\">\n",
       "      <th></th>\n",
       "      <th>author</th>\n",
       "      <th>content</th>\n",
       "      <th>time</th>\n",
       "    </tr>\n",
       "  </thead>\n",
       "  <tbody>\n",
       "    <tr>\n",
       "      <th>0</th>\n",
       "      <td>Alexliao-Taiwan</td>\n",
       "      <td>希望你平安Greenbrothers现在十分担心福岛核电站的核泄漏最糟糕的情况核泄漏会波及到...</td>\n",
       "      <td>2011年03月13日 23:38</td>\n",
       "    </tr>\n",
       "    <tr>\n",
       "      <th>1</th>\n",
       "      <td>成都商报</td>\n",
       "      <td>聚焦日本地震据日本新闻网报道美国原子能委员会和美国能源部的一个专家小组今13日夜启程赶来日本...</td>\n",
       "      <td>2011年03月13日 23:29</td>\n",
       "    </tr>\n",
       "    <tr>\n",
       "      <th>2</th>\n",
       "      <td>东山讲坛</td>\n",
       "      <td>东京日本地震海啸爆炸中新网3月13日电据日本新闻网报道美国原子能委员会和美国能源部的一个专家...</td>\n",
       "      <td>2011年03月13日 23:21</td>\n",
       "    </tr>\n",
       "    <tr>\n",
       "      <th>3</th>\n",
       "      <td>长江日报</td>\n",
       "      <td>凤凰李淼福岛核泄漏日政府最初非常谨慎公布信息很少国民一度非常紧张原子能保安院官员记者会也都是...</td>\n",
       "      <td>2011年03月13日 23:11</td>\n",
       "    </tr>\n",
       "    <tr>\n",
       "      <th>4</th>\n",
       "      <td>酿青椒</td>\n",
       "      <td>福岛第一第二核电所属的东京电力社长出来向公众谢罪说跟设备老化比起来海啸才是使机械失效引发事故...</td>\n",
       "      <td>2011年03月13日 23:04</td>\n",
       "    </tr>\n",
       "    <tr>\n",
       "      <th>...</th>\n",
       "      <td>...</td>\n",
       "      <td>...</td>\n",
       "      <td>...</td>\n",
       "    </tr>\n",
       "    <tr>\n",
       "      <th>100914</th>\n",
       "      <td>知乎用户</td>\n",
       "      <td>我一个准备去加国留学的看完心里怕怕的惜命_</td>\n",
       "      <td>2017-02-13</td>\n",
       "    </tr>\n",
       "    <tr>\n",
       "      <th>100915</th>\n",
       "      <td>L-清源</td>\n",
       "      <td>如果短期旅游有什么影响吗</td>\n",
       "      <td>2017-02-13</td>\n",
       "    </tr>\n",
       "    <tr>\n",
       "      <th>100916</th>\n",
       "      <td>黄sir</td>\n",
       "      <td>这个事实上答主春节刚从日本旅游回来还买了些化妆品不过仅限于去东京以东不过大家不知道注意过没日...</td>\n",
       "      <td>2017-02-12</td>\n",
       "    </tr>\n",
       "    <tr>\n",
       "      <th>100917</th>\n",
       "      <td>Siqi Xia (作者)</td>\n",
       "      <td>天呐请问哪些地方要注意不能去呢我还准备四五月份去玩来着去那玩还能吃海鲜那类吗现在日本零食已经...</td>\n",
       "      <td>2017-02-12</td>\n",
       "    </tr>\n",
       "    <tr>\n",
       "      <th>100918</th>\n",
       "      <td>荷喵</td>\n",
       "      <td>好厉害的分析啊</td>\n",
       "      <td>2017-02-12</td>\n",
       "    </tr>\n",
       "  </tbody>\n",
       "</table>\n",
       "<p>100919 rows × 3 columns</p>\n",
       "</div>"
      ],
      "text/plain": [
       "                 author                                            content  \\\n",
       "0       Alexliao-Taiwan  希望你平安Greenbrothers现在十分担心福岛核电站的核泄漏最糟糕的情况核泄漏会波及到...   \n",
       "1                  成都商报  聚焦日本地震据日本新闻网报道美国原子能委员会和美国能源部的一个专家小组今13日夜启程赶来日本...   \n",
       "2                  东山讲坛  东京日本地震海啸爆炸中新网3月13日电据日本新闻网报道美国原子能委员会和美国能源部的一个专家...   \n",
       "3                  长江日报  凤凰李淼福岛核泄漏日政府最初非常谨慎公布信息很少国民一度非常紧张原子能保安院官员记者会也都是...   \n",
       "4                   酿青椒  福岛第一第二核电所属的东京电力社长出来向公众谢罪说跟设备老化比起来海啸才是使机械失效引发事故...   \n",
       "...                 ...                                                ...   \n",
       "100914             知乎用户                              我一个准备去加国留学的看完心里怕怕的惜命_   \n",
       "100915             L-清源                                       如果短期旅游有什么影响吗   \n",
       "100916             黄sir  这个事实上答主春节刚从日本旅游回来还买了些化妆品不过仅限于去东京以东不过大家不知道注意过没日...   \n",
       "100917   Siqi Xia (作者)   天呐请问哪些地方要注意不能去呢我还准备四五月份去玩来着去那玩还能吃海鲜那类吗现在日本零食已经...   \n",
       "100918               荷喵                                            好厉害的分析啊   \n",
       "\n",
       "                     time  \n",
       "0       2011年03月13日 23:38  \n",
       "1       2011年03月13日 23:29  \n",
       "2       2011年03月13日 23:21  \n",
       "3       2011年03月13日 23:11  \n",
       "4       2011年03月13日 23:04  \n",
       "...                   ...  \n",
       "100914         2017-02-13  \n",
       "100915         2017-02-13  \n",
       "100916         2017-02-12  \n",
       "100917         2017-02-12  \n",
       "100918         2017-02-12  \n",
       "\n",
       "[100919 rows x 3 columns]"
      ]
     },
     "execution_count": 17,
     "metadata": {},
     "output_type": "execute_result"
    }
   ],
   "source": [
    "import numpy as np\n",
    "dfN['content'].replace(\"\",np.nan,inplace=True)\n",
    "dfN=dfN.dropna(axis=0, subset= ['content']).dropna(axis=0,subset=['author'])\n",
    "dfN.reset_index(drop=True,inplace=True) #drop=True：删除原行索引；inplace=True:在数据上进行更新\n",
    "dfN"
   ]
  },
  {
   "cell_type": "markdown",
   "metadata": {
    "pycharm": {
     "name": "#%% md\n"
    }
   },
   "source": [
    "### 中文分词技术\n",
    "\n"
   ]
  },
  {
   "cell_type": "code",
   "execution_count": null,
   "metadata": {},
   "outputs": [
    {
     "name": "stderr",
     "output_type": "stream",
     "text": [
      "Building prefix dict from the default dictionary ...\n",
      "Dumping model to file cache C:\\Users\\admin\\AppData\\Local\\Temp\\jieba.cache\n",
      "Loading model cost 1.057 seconds.\n",
      "Prefix dict has been built successfully.\n"
     ]
    }
   ],
   "source": [
    "import wordCleaner\n",
    "wdc = wordCleaner.WordCleaner(dfN)\n",
    "wdc.stop_words_data('results/random-nuclear/Res-Dat/')\n",
    "\n",
    "wdc.jieba_cut('results/random-nuclear/Res-Dat/')\n"
   ]
  },
  {
   "cell_type": "markdown",
   "metadata": {},
   "source": [
    "去重复词设计"
   ]
  },
  {
   "cell_type": "markdown",
   "metadata": {},
   "source": []
  }
 ],
 "metadata": {
  "kernelspec": {
   "display_name": "Python 3",
   "language": "python",
   "name": "python3"
  },
  "language_info": {
   "codemirror_mode": {
    "name": "ipython",
    "version": 3
   },
   "file_extension": ".py",
   "mimetype": "text/x-python",
   "name": "python",
   "nbconvert_exporter": "python",
   "pygments_lexer": "ipython3",
   "version": "3.8.5"
  }
 },
 "nbformat": 4,
 "nbformat_minor": 1
}