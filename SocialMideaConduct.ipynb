{
 "cells": [
  {
   "cell_type": "markdown",
   "metadata": {},
   "source": [
    "# 社交媒体网络技术处理 —— 社交网络评论/博客模块\n",
    "\n",
    "在本次的相关技术领域，我们尝试对项目结构进行模块化，用json格式文件进行读取，大致流程如下\n",
    "\n",
    "先读一下 json\n",
    "\n",
    "# 0 准备"
   ]
  },
  {
   "cell_type": "code",
   "execution_count": 29,
   "metadata": {
    "pycharm": {
     "name": "#%%\n"
    }
   },
   "outputs": [
    {
     "data": {
      "text/plain": [
       "'福岛 核'"
      ]
     },
     "execution_count": 29,
     "metadata": {},
     "output_type": "execute_result"
    }
   ],
   "source": [
    "import json\n",
    "with open(\"intro.json\",\"r\",encoding=\"utf-8\") as f:\n",
    "    json_data = json.load(f)\n",
    "username = json_data['username']\n",
    "password = json_data['password']\n",
    "webdriver_path = json_data['chrome_driver_location']\n",
    "useremail = json_data['useremail']\n",
    "data_store_location = json_data['data_store_location']\n",
    "result_analyse_location = json_data['result_analyse_location']\n",
    "result_picture = json_data['result_picture']\n",
    "keyword = json_data['keyword']\n",
    "keyword"
   ]
  },
  {
   "cell_type": "markdown",
   "metadata": {
    "pycharm": {
     "name": "#%% md\n"
    }
   },
   "source": [
    "## 1. 数据爬取\n",
    "\n",
    "可自行选定社交媒体网站，例如豆瓣，微博，知乎，微信公众号，今日头条等等，\n",
    "\n",
    "爬取小组选定分析主题相关的社交媒体文本评论数据（要求至少爬取10万条数据，请添加具体实现步骤、运行结果和相关截图）（1分）\n",
    "\n",
    "我们通过面向对象式写法实现跨模块的调用技术"
   ]
  },
  {
   "cell_type": "code",
   "execution_count": null,
   "metadata": {
    "pycharm": {
     "name": "#%%\n"
    }
   },
   "outputs": [],
   "source": [
    "from webSpyder.toutiaoSpyder import ToutiaoSpyder\n",
    "toutiao = ToutiaoSpyder(webdriver_path,keyword)\n",
    "toutiao.enter_key()\n",
    "toutiao.getSpyNews()\n",
    "toutiao.getSpyMicro()\n",
    "toutiao.store_mongoDB()\n",
    "\n",
    "# 知乎同理，进行数据获取时用到，爬取相关的评论和文章\n",
    "from webSpyder.zhihuSpyder import ZhiHuSpyder\n",
    "zhihu = ZhiHuSpyder(webdriver_path)\n",
    "zhihu.getComments()\n",
    "zhihu.getSpyContent()\n",
    "\n",
    "# 其他模型不再赘述"
   ]
  },
  {
   "cell_type": "markdown",
   "metadata": {
    "pycharm": {
     "name": "#%% md\n"
    }
   },
   "source": [
    "## 爬取数据预处理\n",
    "\n",
    "#### 1. 格式文本统一化\n",
    "\n",
    "我们的数据来源比较复杂，有来着知乎、头条、微博的数据，存储格式也大有不同，\n",
    "因此我们需要进行所有的数据归一化，同时执行相关的预处理操作\n",
    "\n",
    "预处理模块的代码参考dataProcessing.py ，包括内部的一系列情况"
   ]
  },
  {
   "cell_type": "code",
   "execution_count": 30,
   "metadata": {
    "pycharm": {
     "name": "#%%\n"
    }
   },
   "outputs": [
    {
     "name": "stdout",
     "output_type": "stream",
     "text": [
      "(18611, 12)\n",
      "(264000, 4)\n",
      "(55924, 13)\n",
      "whole raw data:  338535\n"
     ]
    }
   ],
   "source": [
    "import pandas as pd\n",
    "import dataProcessing as dp\n",
    "\n",
    "excelData = data_store_location+'/excelData'\n",
    "mongoData = data_store_location+'/mongoData'\n",
    "otherData = data_store_location+'/otherData'\n",
    "\n",
    "excel = dp.multi_excel_combine(excelData)\n",
    "mongo = dp.multi_csv_combine(mongoData)\n",
    "other = dp.multi_csv_combine(otherData)\n",
    "print(excel.shape)\n",
    "print(mongo.shape)\n",
    "print(other.shape)\n",
    "print(\"whole raw data: \",excel.shape[0]+mongo.shape[0]+other.shape[0])"
   ]
  },
  {
   "cell_type": "markdown",
   "metadata": {
    "pycharm": {
     "name": "#%% md\n"
    }
   },
   "source": [
    "可以看到未处理原始评论数据集有20w条左右，下面对这些数据进行处理整合"
   ]
  },
  {
   "cell_type": "code",
   "execution_count": 31,
   "metadata": {
    "pycharm": {
     "name": "#%%\n"
    }
   },
   "outputs": [
    {
     "data": {
      "text/html": [
       "<div>\n",
       "<style scoped>\n",
       "    .dataframe tbody tr th:only-of-type {\n",
       "        vertical-align: middle;\n",
       "    }\n",
       "\n",
       "    .dataframe tbody tr th {\n",
       "        vertical-align: top;\n",
       "    }\n",
       "\n",
       "    .dataframe thead th {\n",
       "        text-align: right;\n",
       "    }\n",
       "</style>\n",
       "<table border=\"1\" class=\"dataframe\">\n",
       "  <thead>\n",
       "    <tr style=\"text-align: right;\">\n",
       "      <th></th>\n",
       "      <th>author</th>\n",
       "      <th>content</th>\n",
       "      <th>time</th>\n",
       "    </tr>\n",
       "  </thead>\n",
       "  <tbody>\n",
       "    <tr>\n",
       "      <th>0</th>\n",
       "      <td>weltncap</td>\n",
       "      <td>#福岛核废水57天可废掉半个太平洋#加速末日进程</td>\n",
       "      <td>04月13日 23:59</td>\n",
       "    </tr>\n",
       "    <tr>\n",
       "      <th>1</th>\n",
       "      <td>辛宪英亲卫队</td>\n",
       "      <td>//@司马南:在日本政府13日决定将福岛核废水排入海中之后，与其邻近的中国、韩国均已批评了日...</td>\n",
       "      <td>04月13日 23:59</td>\n",
       "    </tr>\n",
       "    <tr>\n",
       "      <th>2</th>\n",
       "      <td>曾文泉1</td>\n",
       "      <td>@VV深呼吸:可恶的日本鬼子！央视报导；日本内阁于今日通过往太平洋倾倒核废料决定、日本人想干...</td>\n",
       "      <td>04月13日 23:59</td>\n",
       "    </tr>\n",
       "    <tr>\n",
       "      <th>3</th>\n",
       "      <td>北纬27-</td>\n",
       "      <td>#福岛核废水57天可废掉半个太平洋#先把他们都毒死吧，清理地盘出来放核废水</td>\n",
       "      <td>04月13日 23:59</td>\n",
       "    </tr>\n",
       "    <tr>\n",
       "      <th>4</th>\n",
       "      <td>饼干小宝99</td>\n",
       "      <td>#日本核废水# 2厦门·厦门大学</td>\n",
       "      <td>04月13日 23:59</td>\n",
       "    </tr>\n",
       "    <tr>\n",
       "      <th>5</th>\n",
       "      <td>专业背锅你鲨爹</td>\n",
       "      <td>#福岛核废水57天可废掉半个太平洋#待那一天，海浪卷上你们的岛泽，吞没你们的房屋，你们连造出...</td>\n",
       "      <td>04月13日 23:59</td>\n",
       "    </tr>\n",
       "    <tr>\n",
       "      <th>6</th>\n",
       "      <td>小舟渡江</td>\n",
       "      <td>怎么会通过放出核废水？？？脑子没病吧</td>\n",
       "      <td>04月13日 23:59</td>\n",
       "    </tr>\n",
       "    <tr>\n",
       "      <th>7</th>\n",
       "      <td>她的独角兽</td>\n",
       "      <td>#福岛核废水57天可废掉半个太平洋#积点德吧，简直丧心病狂</td>\n",
       "      <td>04月13日 23:59</td>\n",
       "    </tr>\n",
       "    <tr>\n",
       "      <th>8</th>\n",
       "      <td>闷闷0088</td>\n",
       "      <td>#如何看待日本福岛核废水排海#.I'm not living to please you.</td>\n",
       "      <td>04月13日 23:59</td>\n",
       "    </tr>\n",
       "    <tr>\n",
       "      <th>9</th>\n",
       "      <td>哈哈赵是赵哈哈</td>\n",
       "      <td>#福岛核废水57天可废掉半个太平洋#看到这种事情，就觉得我们能做的就是珍惜当下且不要对未来过...</td>\n",
       "      <td>04月13日 23:59</td>\n",
       "    </tr>\n",
       "  </tbody>\n",
       "</table>\n",
       "</div>"
      ],
      "text/plain": [
       "     author                                            content          time\n",
       "0  weltncap                           #福岛核废水57天可废掉半个太平洋#加速末日进程  04月13日 23:59\n",
       "1    辛宪英亲卫队  //@司马南:在日本政府13日决定将福岛核废水排入海中之后，与其邻近的中国、韩国均已批评了日...  04月13日 23:59\n",
       "2      曾文泉1  @VV深呼吸:可恶的日本鬼子！央视报导；日本内阁于今日通过往太平洋倾倒核废料决定、日本人想干...  04月13日 23:59\n",
       "3     北纬27-              #福岛核废水57天可废掉半个太平洋#先把他们都毒死吧，清理地盘出来放核废水  04月13日 23:59\n",
       "4    饼干小宝99                                   #日本核废水# 2厦门·厦门大学  04月13日 23:59\n",
       "5   专业背锅你鲨爹  #福岛核废水57天可废掉半个太平洋#待那一天，海浪卷上你们的岛泽，吞没你们的房屋，你们连造出...  04月13日 23:59\n",
       "6      小舟渡江                                 怎么会通过放出核废水？？？脑子没病吧  04月13日 23:59\n",
       "7     她的独角兽                      #福岛核废水57天可废掉半个太平洋#积点德吧，简直丧心病狂  04月13日 23:59\n",
       "8    闷闷0088      #如何看待日本福岛核废水排海#.I'm not living to please you.  04月13日 23:59\n",
       "9   哈哈赵是赵哈哈  #福岛核废水57天可废掉半个太平洋#看到这种事情，就觉得我们能做的就是珍惜当下且不要对未来过...  04月13日 23:59"
      ]
     },
     "execution_count": 31,
     "metadata": {},
     "output_type": "execute_result"
    }
   ],
   "source": [
    "# 集体去重,先处理微博的情况\n",
    "df_weibo_excel = dp.data_renameweibo(excel)\n",
    "df_weibo_other = dp.data_renameweibo(other)\n",
    "\n",
    "# 对excel和other下的微博数据集体抽取并合并起来\n",
    "dfA = dp.data_cut(df_weibo_excel)\n",
    "dfB = dp.data_cut(df_weibo_other)\n",
    "mg = dp.data_cut(mongo)\n",
    "\n",
    "dfAB = dp.multi_pd_combine(dfA, dfB)\n",
    "dfABC = dp.multi_pd_combine(dfAB, mg)\n",
    "dfABC.head(10)"
   ]
  },
  {
   "cell_type": "markdown",
   "metadata": {},
   "source": [
    "pandas中，isnull()是常用的缺失值查看方法：\n",
    "\n",
    "    df.isnull():查看所有数据是否为缺失值，返回bool值。True：缺失值；False：不是缺失值。\n",
    "    df.isnull().any():查看每个特征是否存在缺失值，返回bool值。\n",
    "    df.isnll().sum():返回每个特征中缺失值的具体数量。\n",
    "\n"
   ]
  },
  {
   "cell_type": "code",
   "execution_count": 32,
   "metadata": {
    "pycharm": {
     "name": "#%%\n"
    }
   },
   "outputs": [
    {
     "name": "stdout",
     "output_type": "stream",
     "text": [
      "author      465\n",
      "content    1819\n",
      "time          0\n",
      "dtype: int64\n"
     ]
    },
    {
     "data": {
      "text/html": [
       "<div>\n",
       "<style scoped>\n",
       "    .dataframe tbody tr th:only-of-type {\n",
       "        vertical-align: middle;\n",
       "    }\n",
       "\n",
       "    .dataframe tbody tr th {\n",
       "        vertical-align: top;\n",
       "    }\n",
       "\n",
       "    .dataframe thead th {\n",
       "        text-align: right;\n",
       "    }\n",
       "</style>\n",
       "<table border=\"1\" class=\"dataframe\">\n",
       "  <thead>\n",
       "    <tr style=\"text-align: right;\">\n",
       "      <th></th>\n",
       "      <th>author</th>\n",
       "      <th>content</th>\n",
       "      <th>time</th>\n",
       "    </tr>\n",
       "  </thead>\n",
       "  <tbody>\n",
       "    <tr>\n",
       "      <th>0</th>\n",
       "      <td>weltncap</td>\n",
       "      <td>#福岛核废水57天可废掉半个太平洋#加速末日进程</td>\n",
       "      <td>04月13日 23:59</td>\n",
       "    </tr>\n",
       "    <tr>\n",
       "      <th>1</th>\n",
       "      <td>辛宪英亲卫队</td>\n",
       "      <td>//@司马南:在日本政府13日决定将福岛核废水排入海中之后，与其邻近的中国、韩国均已批评了日...</td>\n",
       "      <td>04月13日 23:59</td>\n",
       "    </tr>\n",
       "    <tr>\n",
       "      <th>2</th>\n",
       "      <td>曾文泉1</td>\n",
       "      <td>@VV深呼吸:可恶的日本鬼子！央视报导；日本内阁于今日通过往太平洋倾倒核废料决定、日本人想干...</td>\n",
       "      <td>04月13日 23:59</td>\n",
       "    </tr>\n",
       "    <tr>\n",
       "      <th>3</th>\n",
       "      <td>北纬27-</td>\n",
       "      <td>#福岛核废水57天可废掉半个太平洋#先把他们都毒死吧，清理地盘出来放核废水</td>\n",
       "      <td>04月13日 23:59</td>\n",
       "    </tr>\n",
       "    <tr>\n",
       "      <th>4</th>\n",
       "      <td>饼干小宝99</td>\n",
       "      <td>#日本核废水# 2厦门·厦门大学</td>\n",
       "      <td>04月13日 23:59</td>\n",
       "    </tr>\n",
       "    <tr>\n",
       "      <th>...</th>\n",
       "      <td>...</td>\n",
       "      <td>...</td>\n",
       "      <td>...</td>\n",
       "    </tr>\n",
       "    <tr>\n",
       "      <th>336246</th>\n",
       "      <td>知乎用户</td>\n",
       "      <td>我一个准备去加国留学的看完心里怕怕的 惜命~_~</td>\n",
       "      <td>2017-02-13</td>\n",
       "    </tr>\n",
       "    <tr>\n",
       "      <th>336247</th>\n",
       "      <td>L-清源</td>\n",
       "      <td>如果短期旅游有什么影响吗？</td>\n",
       "      <td>2017-02-13</td>\n",
       "    </tr>\n",
       "    <tr>\n",
       "      <th>336248</th>\n",
       "      <td>黄sir</td>\n",
       "      <td>这个……事实上答主春节刚从日本旅游回来，还买了些化妆品 〒▽〒 不过仅限于去东京以东。不过大...</td>\n",
       "      <td>2017-02-12</td>\n",
       "    </tr>\n",
       "    <tr>\n",
       "      <th>336249</th>\n",
       "      <td>Siqi Xia (作者)</td>\n",
       "      <td>天呐 请问哪些地方要注意不能去呢？我还准备四五月份去玩来着 去那玩还能吃海鲜那类吗？现在日本...</td>\n",
       "      <td>2017-02-12</td>\n",
       "    </tr>\n",
       "    <tr>\n",
       "      <th>336250</th>\n",
       "      <td>荷喵</td>\n",
       "      <td>好厉害的分析啊</td>\n",
       "      <td>2017-02-12</td>\n",
       "    </tr>\n",
       "  </tbody>\n",
       "</table>\n",
       "<p>336251 rows × 3 columns</p>\n",
       "</div>"
      ],
      "text/plain": [
       "                author                                            content  \\\n",
       "0             weltncap                           #福岛核废水57天可废掉半个太平洋#加速末日进程   \n",
       "1               辛宪英亲卫队  //@司马南:在日本政府13日决定将福岛核废水排入海中之后，与其邻近的中国、韩国均已批评了日...   \n",
       "2                 曾文泉1  @VV深呼吸:可恶的日本鬼子！央视报导；日本内阁于今日通过往太平洋倾倒核废料决定、日本人想干...   \n",
       "3                北纬27-              #福岛核废水57天可废掉半个太平洋#先把他们都毒死吧，清理地盘出来放核废水   \n",
       "4               饼干小宝99                                   #日本核废水# 2厦门·厦门大学   \n",
       "...                ...                                                ...   \n",
       "336246            知乎用户                           我一个准备去加国留学的看完心里怕怕的 惜命~_~   \n",
       "336247            L-清源                                      如果短期旅游有什么影响吗？   \n",
       "336248            黄sir  这个……事实上答主春节刚从日本旅游回来，还买了些化妆品 〒▽〒 不过仅限于去东京以东。不过大...   \n",
       "336249  Siqi Xia (作者)   天呐 请问哪些地方要注意不能去呢？我还准备四五月份去玩来着 去那玩还能吃海鲜那类吗？现在日本...   \n",
       "336250              荷喵                                            好厉害的分析啊   \n",
       "\n",
       "                time  \n",
       "0       04月13日 23:59  \n",
       "1       04月13日 23:59  \n",
       "2       04月13日 23:59  \n",
       "3       04月13日 23:59  \n",
       "4       04月13日 23:59  \n",
       "...              ...  \n",
       "336246    2017-02-13  \n",
       "336247    2017-02-13  \n",
       "336248    2017-02-12  \n",
       "336249    2017-02-12  \n",
       "336250    2017-02-12  \n",
       "\n",
       "[336251 rows x 3 columns]"
      ]
     },
     "execution_count": 32,
     "metadata": {},
     "output_type": "execute_result"
    }
   ],
   "source": [
    "dp.show_nan_data(dfABC)\n",
    "\n",
    "dfABC=dfABC.dropna(axis=0, subset= ['content']).dropna(axis=0,subset=['author'])\n",
    "dfABC.reset_index(drop=True,inplace=True)#drop=True：删除原行索引；inplace=True:在数据上进行更新\n",
    "\n",
    "dfABC"
   ]
  },
  {
   "cell_type": "code",
   "execution_count": 33,
   "metadata": {},
   "outputs": [
    {
     "name": "stdout",
     "output_type": "stream",
     "text": [
      "author     0\n",
      "content    0\n",
      "time       0\n",
      "dtype: int64\n"
     ]
    }
   ],
   "source": [
    "dp.show_nan_data(dfABC)"
   ]
  },
  {
   "cell_type": "code",
   "execution_count": 34,
   "metadata": {},
   "outputs": [
    {
     "data": {
      "text/html": [
       "<div>\n",
       "<style scoped>\n",
       "    .dataframe tbody tr th:only-of-type {\n",
       "        vertical-align: middle;\n",
       "    }\n",
       "\n",
       "    .dataframe tbody tr th {\n",
       "        vertical-align: top;\n",
       "    }\n",
       "\n",
       "    .dataframe thead th {\n",
       "        text-align: right;\n",
       "    }\n",
       "</style>\n",
       "<table border=\"1\" class=\"dataframe\">\n",
       "  <thead>\n",
       "    <tr style=\"text-align: right;\">\n",
       "      <th></th>\n",
       "      <th>author</th>\n",
       "      <th>content</th>\n",
       "      <th>time</th>\n",
       "    </tr>\n",
       "  </thead>\n",
       "  <tbody>\n",
       "    <tr>\n",
       "      <th>0</th>\n",
       "      <td>weltncap</td>\n",
       "      <td>#福岛核废水57天可废掉半个太平洋#加速末日进程</td>\n",
       "      <td>04月13日 23:59</td>\n",
       "    </tr>\n",
       "    <tr>\n",
       "      <th>1</th>\n",
       "      <td>辛宪英亲卫队</td>\n",
       "      <td>//@司马南:在日本政府13日决定将福岛核废水排入海中之后，与其邻近的中国、韩国均已批评了日...</td>\n",
       "      <td>04月13日 23:59</td>\n",
       "    </tr>\n",
       "    <tr>\n",
       "      <th>2</th>\n",
       "      <td>曾文泉1</td>\n",
       "      <td>@VV深呼吸:可恶的日本鬼子！央视报导；日本内阁于今日通过往太平洋倾倒核废料决定、日本人想干...</td>\n",
       "      <td>04月13日 23:59</td>\n",
       "    </tr>\n",
       "    <tr>\n",
       "      <th>3</th>\n",
       "      <td>北纬27-</td>\n",
       "      <td>#福岛核废水57天可废掉半个太平洋#先把他们都毒死吧，清理地盘出来放核废水</td>\n",
       "      <td>04月13日 23:59</td>\n",
       "    </tr>\n",
       "    <tr>\n",
       "      <th>4</th>\n",
       "      <td>饼干小宝99</td>\n",
       "      <td>#日本核废水# 2厦门·厦门大学</td>\n",
       "      <td>04月13日 23:59</td>\n",
       "    </tr>\n",
       "    <tr>\n",
       "      <th>...</th>\n",
       "      <td>...</td>\n",
       "      <td>...</td>\n",
       "      <td>...</td>\n",
       "    </tr>\n",
       "    <tr>\n",
       "      <th>336246</th>\n",
       "      <td>知乎用户</td>\n",
       "      <td>我一个准备去加国留学的看完心里怕怕的 惜命~_~</td>\n",
       "      <td>2017-02-13</td>\n",
       "    </tr>\n",
       "    <tr>\n",
       "      <th>336247</th>\n",
       "      <td>L-清源</td>\n",
       "      <td>如果短期旅游有什么影响吗？</td>\n",
       "      <td>2017-02-13</td>\n",
       "    </tr>\n",
       "    <tr>\n",
       "      <th>336248</th>\n",
       "      <td>黄sir</td>\n",
       "      <td>这个……事实上答主春节刚从日本旅游回来，还买了些化妆品 〒▽〒 不过仅限于去东京以东。不过大...</td>\n",
       "      <td>2017-02-12</td>\n",
       "    </tr>\n",
       "    <tr>\n",
       "      <th>336249</th>\n",
       "      <td>Siqi Xia (作者)</td>\n",
       "      <td>天呐 请问哪些地方要注意不能去呢？我还准备四五月份去玩来着 去那玩还能吃海鲜那类吗？现在日本...</td>\n",
       "      <td>2017-02-12</td>\n",
       "    </tr>\n",
       "    <tr>\n",
       "      <th>336250</th>\n",
       "      <td>荷喵</td>\n",
       "      <td>好厉害的分析啊</td>\n",
       "      <td>2017-02-12</td>\n",
       "    </tr>\n",
       "  </tbody>\n",
       "</table>\n",
       "<p>336251 rows × 3 columns</p>\n",
       "</div>"
      ],
      "text/plain": [
       "                author                                            content  \\\n",
       "0             weltncap                           #福岛核废水57天可废掉半个太平洋#加速末日进程   \n",
       "1               辛宪英亲卫队  //@司马南:在日本政府13日决定将福岛核废水排入海中之后，与其邻近的中国、韩国均已批评了日...   \n",
       "2                 曾文泉1  @VV深呼吸:可恶的日本鬼子！央视报导；日本内阁于今日通过往太平洋倾倒核废料决定、日本人想干...   \n",
       "3                北纬27-              #福岛核废水57天可废掉半个太平洋#先把他们都毒死吧，清理地盘出来放核废水   \n",
       "4               饼干小宝99                                   #日本核废水# 2厦门·厦门大学   \n",
       "...                ...                                                ...   \n",
       "336246            知乎用户                           我一个准备去加国留学的看完心里怕怕的 惜命~_~   \n",
       "336247            L-清源                                      如果短期旅游有什么影响吗？   \n",
       "336248            黄sir  这个……事实上答主春节刚从日本旅游回来，还买了些化妆品 〒▽〒 不过仅限于去东京以东。不过大...   \n",
       "336249  Siqi Xia (作者)   天呐 请问哪些地方要注意不能去呢？我还准备四五月份去玩来着 去那玩还能吃海鲜那类吗？现在日本...   \n",
       "336250              荷喵                                            好厉害的分析啊   \n",
       "\n",
       "                time  \n",
       "0       04月13日 23:59  \n",
       "1       04月13日 23:59  \n",
       "2       04月13日 23:59  \n",
       "3       04月13日 23:59  \n",
       "4       04月13日 23:59  \n",
       "...              ...  \n",
       "336246    2017-02-13  \n",
       "336247    2017-02-13  \n",
       "336248    2017-02-12  \n",
       "336249    2017-02-12  \n",
       "336250    2017-02-12  \n",
       "\n",
       "[336251 rows x 3 columns]"
      ]
     },
     "execution_count": 34,
     "metadata": {},
     "output_type": "execute_result"
    }
   ],
   "source": [
    "dfABC"
   ]
  },
  {
   "cell_type": "markdown",
   "metadata": {},
   "source": [
    "可以看到缺失值已经被处理了，下面我们尝试去除重复值\n",
    "\n",
    "pandas中，除去重复值的常用方法为drop_duplicate，其基本格式如下：\n",
    "\n",
    "**DataFrame.drop_duplicates(subset=None, keep='first', inplace=False)：**\n",
    "\n",
    "关键参数详解：\n",
    "\n",
    "    subset:用来指定特定的列，默认所有列；\n",
    "    keep: {'first', 'last', False}。默认值为'first'，用于删除重复项并保留第一次出现的项；\n",
    "    inplace:是直接在原来数据上修改还是保留一个副本，默认是False"
   ]
  },
  {
   "cell_type": "code",
   "execution_count": 35,
   "metadata": {},
   "outputs": [
    {
     "data": {
      "text/html": [
       "<div>\n",
       "<style scoped>\n",
       "    .dataframe tbody tr th:only-of-type {\n",
       "        vertical-align: middle;\n",
       "    }\n",
       "\n",
       "    .dataframe tbody tr th {\n",
       "        vertical-align: top;\n",
       "    }\n",
       "\n",
       "    .dataframe thead th {\n",
       "        text-align: right;\n",
       "    }\n",
       "</style>\n",
       "<table border=\"1\" class=\"dataframe\">\n",
       "  <thead>\n",
       "    <tr style=\"text-align: right;\">\n",
       "      <th></th>\n",
       "      <th>author</th>\n",
       "      <th>content</th>\n",
       "      <th>time</th>\n",
       "    </tr>\n",
       "  </thead>\n",
       "  <tbody>\n",
       "    <tr>\n",
       "      <th>0</th>\n",
       "      <td>心灵深处的呼唤1981</td>\n",
       "      <td>//@军粉姐姐V:美帝同意就往美帝那边倒呀，中国不同意！//@战略安全与军控在线:#日本政府...</td>\n",
       "      <td>04月13日 23:59</td>\n",
       "    </tr>\n",
       "    <tr>\n",
       "      <th>1</th>\n",
       "      <td>彭三岁的夫人呐</td>\n",
       "      <td>#福岛核废水57天可废掉半个太平洋#他怎么不稀释了自己喝</td>\n",
       "      <td>04月13日 23:59</td>\n",
       "    </tr>\n",
       "    <tr>\n",
       "      <th>2</th>\n",
       "      <td>Demiral28</td>\n",
       "      <td>//@失语卡文课代表:希望他的眼泪冲淡太平洋的核废水</td>\n",
       "      <td>04月13日 23:59</td>\n",
       "    </tr>\n",
       "    <tr>\n",
       "      <th>3</th>\n",
       "      <td>言小鸢</td>\n",
       "      <td>从麦穗没弯腰写起网购的猫草种子，据说是麦籽儿。一袋小麦，一袋大麦。它，边被我采摘与猫啃咬，边...</td>\n",
       "      <td>04月13日 23:59</td>\n",
       "    </tr>\n",
       "    <tr>\n",
       "      <th>4</th>\n",
       "      <td>手藝人陳大鍋</td>\n",
       "      <td>#福岛核废水57天可废掉半个太平洋#真的很可怕海洋动物到底做错啥子要承受这些？日本人大概率是...</td>\n",
       "      <td>04月13日 23:59</td>\n",
       "    </tr>\n",
       "    <tr>\n",
       "      <th>...</th>\n",
       "      <td>...</td>\n",
       "      <td>...</td>\n",
       "      <td>...</td>\n",
       "    </tr>\n",
       "    <tr>\n",
       "      <th>81841</th>\n",
       "      <td>知乎用户</td>\n",
       "      <td>我一个准备去加国留学的看完心里怕怕的 惜命~_~</td>\n",
       "      <td>2017-02-13</td>\n",
       "    </tr>\n",
       "    <tr>\n",
       "      <th>81842</th>\n",
       "      <td>L-清源</td>\n",
       "      <td>如果短期旅游有什么影响吗？</td>\n",
       "      <td>2017-02-13</td>\n",
       "    </tr>\n",
       "    <tr>\n",
       "      <th>81843</th>\n",
       "      <td>黄sir</td>\n",
       "      <td>这个……事实上答主春节刚从日本旅游回来，还买了些化妆品 〒▽〒 不过仅限于去东京以东。不过大...</td>\n",
       "      <td>2017-02-12</td>\n",
       "    </tr>\n",
       "    <tr>\n",
       "      <th>81844</th>\n",
       "      <td>Siqi Xia (作者)</td>\n",
       "      <td>天呐 请问哪些地方要注意不能去呢？我还准备四五月份去玩来着 去那玩还能吃海鲜那类吗？现在日本...</td>\n",
       "      <td>2017-02-12</td>\n",
       "    </tr>\n",
       "    <tr>\n",
       "      <th>81845</th>\n",
       "      <td>荷喵</td>\n",
       "      <td>好厉害的分析啊</td>\n",
       "      <td>2017-02-12</td>\n",
       "    </tr>\n",
       "  </tbody>\n",
       "</table>\n",
       "<p>81846 rows × 3 columns</p>\n",
       "</div>"
      ],
      "text/plain": [
       "               author                                            content  \\\n",
       "0         心灵深处的呼唤1981  //@军粉姐姐V:美帝同意就往美帝那边倒呀，中国不同意！//@战略安全与军控在线:#日本政府...   \n",
       "1             彭三岁的夫人呐                       #福岛核废水57天可废掉半个太平洋#他怎么不稀释了自己喝   \n",
       "2           Demiral28                         //@失语卡文课代表:希望他的眼泪冲淡太平洋的核废水   \n",
       "3                 言小鸢  从麦穗没弯腰写起网购的猫草种子，据说是麦籽儿。一袋小麦，一袋大麦。它，边被我采摘与猫啃咬，边...   \n",
       "4              手藝人陳大鍋  #福岛核废水57天可废掉半个太平洋#真的很可怕海洋动物到底做错啥子要承受这些？日本人大概率是...   \n",
       "...               ...                                                ...   \n",
       "81841            知乎用户                           我一个准备去加国留学的看完心里怕怕的 惜命~_~   \n",
       "81842            L-清源                                      如果短期旅游有什么影响吗？   \n",
       "81843            黄sir  这个……事实上答主春节刚从日本旅游回来，还买了些化妆品 〒▽〒 不过仅限于去东京以东。不过大...   \n",
       "81844  Siqi Xia (作者)   天呐 请问哪些地方要注意不能去呢？我还准备四五月份去玩来着 去那玩还能吃海鲜那类吗？现在日本...   \n",
       "81845              荷喵                                            好厉害的分析啊   \n",
       "\n",
       "               time  \n",
       "0      04月13日 23:59  \n",
       "1      04月13日 23:59  \n",
       "2      04月13日 23:59  \n",
       "3      04月13日 23:59  \n",
       "4      04月13日 23:59  \n",
       "...             ...  \n",
       "81841    2017-02-13  \n",
       "81842    2017-02-13  \n",
       "81843    2017-02-12  \n",
       "81844    2017-02-12  \n",
       "81845    2017-02-12  \n",
       "\n",
       "[81846 rows x 3 columns]"
      ]
     },
     "execution_count": 35,
     "metadata": {},
     "output_type": "execute_result"
    }
   ],
   "source": [
    "# 测试样例文档\n",
    "dfN = dfABC.drop_duplicates(['content', 'author'],keep='last')\n",
    "dfN.reset_index(drop=True,inplace=True)#drop=True：删除原行索引；inplace=True:在数据上进行更新\n",
    "\n",
    "dfN"
   ]
  },
  {
   "cell_type": "markdown",
   "metadata": {},
   "source": [
    "### 无效符号去除"
   ]
  },
  {
   "cell_type": "markdown",
   "metadata": {},
   "source": [
    "下面进行去除或替换一些无效或不需要的信息，比如特殊字符、标点符号等。\n",
    "请注意： 由于可能部分知乎的数据可能比较特殊，如“？？？？”这类的评论，去掉符号以后只有空的值了，因此需要再进行一次预处理，即再去掉横向空值，如果没有就OK"
   ]
  },
  {
   "cell_type": "code",
   "execution_count": 36,
   "metadata": {},
   "outputs": [
    {
     "name": "stderr",
     "output_type": "stream",
     "text": [
      "<ipython-input-36-193a5cac010d>:1: SettingWithCopyWarning: \n",
      "A value is trying to be set on a copy of a slice from a DataFrame.\n",
      "Try using .loc[row_indexer,col_indexer] = value instead\n",
      "\n",
      "See the caveats in the documentation: https://pandas.pydata.org/pandas-docs/stable/user_guide/indexing.html#returning-a-view-versus-a-copy\n",
      "  dfN['content'] = dfN['content'].str.replace(r'[^\\w]+', '')\n"
     ]
    },
    {
     "data": {
      "text/html": [
       "<div>\n",
       "<style scoped>\n",
       "    .dataframe tbody tr th:only-of-type {\n",
       "        vertical-align: middle;\n",
       "    }\n",
       "\n",
       "    .dataframe tbody tr th {\n",
       "        vertical-align: top;\n",
       "    }\n",
       "\n",
       "    .dataframe thead th {\n",
       "        text-align: right;\n",
       "    }\n",
       "</style>\n",
       "<table border=\"1\" class=\"dataframe\">\n",
       "  <thead>\n",
       "    <tr style=\"text-align: right;\">\n",
       "      <th></th>\n",
       "      <th>author</th>\n",
       "      <th>content</th>\n",
       "      <th>time</th>\n",
       "    </tr>\n",
       "  </thead>\n",
       "  <tbody>\n",
       "    <tr>\n",
       "      <th>0</th>\n",
       "      <td>心灵深处的呼唤1981</td>\n",
       "      <td>军粉姐姐V美帝同意就往美帝那边倒呀中国不同意战略安全与军控在线日本政府正式决定福岛核废水排海...</td>\n",
       "      <td>04月13日 23:59</td>\n",
       "    </tr>\n",
       "    <tr>\n",
       "      <th>1</th>\n",
       "      <td>彭三岁的夫人呐</td>\n",
       "      <td>福岛核废水57天可废掉半个太平洋他怎么不稀释了自己喝</td>\n",
       "      <td>04月13日 23:59</td>\n",
       "    </tr>\n",
       "    <tr>\n",
       "      <th>2</th>\n",
       "      <td>Demiral28</td>\n",
       "      <td>失语卡文课代表希望他的眼泪冲淡太平洋的核废水</td>\n",
       "      <td>04月13日 23:59</td>\n",
       "    </tr>\n",
       "    <tr>\n",
       "      <th>3</th>\n",
       "      <td>言小鸢</td>\n",
       "      <td>从麦穗没弯腰写起网购的猫草种子据说是麦籽儿一袋小麦一袋大麦它边被我采摘与猫啃咬边顽强地成长现...</td>\n",
       "      <td>04月13日 23:59</td>\n",
       "    </tr>\n",
       "    <tr>\n",
       "      <th>4</th>\n",
       "      <td>手藝人陳大鍋</td>\n",
       "      <td>福岛核废水57天可废掉半个太平洋真的很可怕海洋动物到底做错啥子要承受这些日本人大概率是疯了吧...</td>\n",
       "      <td>04月13日 23:59</td>\n",
       "    </tr>\n",
       "  </tbody>\n",
       "</table>\n",
       "</div>"
      ],
      "text/plain": [
       "        author                                            content  \\\n",
       "0  心灵深处的呼唤1981  军粉姐姐V美帝同意就往美帝那边倒呀中国不同意战略安全与军控在线日本政府正式决定福岛核废水排海...   \n",
       "1      彭三岁的夫人呐                         福岛核废水57天可废掉半个太平洋他怎么不稀释了自己喝   \n",
       "2    Demiral28                             失语卡文课代表希望他的眼泪冲淡太平洋的核废水   \n",
       "3          言小鸢  从麦穗没弯腰写起网购的猫草种子据说是麦籽儿一袋小麦一袋大麦它边被我采摘与猫啃咬边顽强地成长现...   \n",
       "4       手藝人陳大鍋  福岛核废水57天可废掉半个太平洋真的很可怕海洋动物到底做错啥子要承受这些日本人大概率是疯了吧...   \n",
       "\n",
       "           time  \n",
       "0  04月13日 23:59  \n",
       "1  04月13日 23:59  \n",
       "2  04月13日 23:59  \n",
       "3  04月13日 23:59  \n",
       "4  04月13日 23:59  "
      ]
     },
     "execution_count": 36,
     "metadata": {},
     "output_type": "execute_result"
    }
   ],
   "source": [
    "dfN['content'] = dfN['content'].str.replace(r'[^\\w]+', '')\n",
    "dfN.head()"
   ]
  },
  {
   "cell_type": "code",
   "execution_count": 37,
   "metadata": {},
   "outputs": [
    {
     "name": "stdout",
     "output_type": "stream",
     "text": [
      "174\n"
     ]
    }
   ],
   "source": [
    "number = 0\n",
    "for i in dfN['content'].values:\n",
    "    if i == '':\n",
    "        number+=1\n",
    "print(number)"
   ]
  },
  {
   "cell_type": "markdown",
   "metadata": {},
   "source": [
    "可以发现有这些数据content删除之后变成没有内容的假空值（但不是真空值 **\"\" != None**），但这类没有意义，也不适合作为重复值舍去\n",
    "\n",
    "接下来我们对这类异常值进行预处理，直接把这一行的数据丢掉"
   ]
  },
  {
   "cell_type": "code",
   "execution_count": 39,
   "metadata": {},
   "outputs": [
    {
     "data": {
      "text/html": [
       "<div>\n",
       "<style scoped>\n",
       "    .dataframe tbody tr th:only-of-type {\n",
       "        vertical-align: middle;\n",
       "    }\n",
       "\n",
       "    .dataframe tbody tr th {\n",
       "        vertical-align: top;\n",
       "    }\n",
       "\n",
       "    .dataframe thead th {\n",
       "        text-align: right;\n",
       "    }\n",
       "</style>\n",
       "<table border=\"1\" class=\"dataframe\">\n",
       "  <thead>\n",
       "    <tr style=\"text-align: right;\">\n",
       "      <th></th>\n",
       "      <th>author</th>\n",
       "      <th>content</th>\n",
       "      <th>time</th>\n",
       "    </tr>\n",
       "  </thead>\n",
       "  <tbody>\n",
       "    <tr>\n",
       "      <th>0</th>\n",
       "      <td>心灵深处的呼唤1981</td>\n",
       "      <td>军粉姐姐V美帝同意就往美帝那边倒呀中国不同意战略安全与军控在线日本政府正式决定福岛核废水排海...</td>\n",
       "      <td>04月13日 23:59</td>\n",
       "    </tr>\n",
       "    <tr>\n",
       "      <th>1</th>\n",
       "      <td>彭三岁的夫人呐</td>\n",
       "      <td>福岛核废水57天可废掉半个太平洋他怎么不稀释了自己喝</td>\n",
       "      <td>04月13日 23:59</td>\n",
       "    </tr>\n",
       "    <tr>\n",
       "      <th>2</th>\n",
       "      <td>Demiral28</td>\n",
       "      <td>失语卡文课代表希望他的眼泪冲淡太平洋的核废水</td>\n",
       "      <td>04月13日 23:59</td>\n",
       "    </tr>\n",
       "    <tr>\n",
       "      <th>3</th>\n",
       "      <td>言小鸢</td>\n",
       "      <td>从麦穗没弯腰写起网购的猫草种子据说是麦籽儿一袋小麦一袋大麦它边被我采摘与猫啃咬边顽强地成长现...</td>\n",
       "      <td>04月13日 23:59</td>\n",
       "    </tr>\n",
       "    <tr>\n",
       "      <th>4</th>\n",
       "      <td>手藝人陳大鍋</td>\n",
       "      <td>福岛核废水57天可废掉半个太平洋真的很可怕海洋动物到底做错啥子要承受这些日本人大概率是疯了吧...</td>\n",
       "      <td>04月13日 23:59</td>\n",
       "    </tr>\n",
       "    <tr>\n",
       "      <th>...</th>\n",
       "      <td>...</td>\n",
       "      <td>...</td>\n",
       "      <td>...</td>\n",
       "    </tr>\n",
       "    <tr>\n",
       "      <th>81667</th>\n",
       "      <td>知乎用户</td>\n",
       "      <td>我一个准备去加国留学的看完心里怕怕的惜命_</td>\n",
       "      <td>2017-02-13</td>\n",
       "    </tr>\n",
       "    <tr>\n",
       "      <th>81668</th>\n",
       "      <td>L-清源</td>\n",
       "      <td>如果短期旅游有什么影响吗</td>\n",
       "      <td>2017-02-13</td>\n",
       "    </tr>\n",
       "    <tr>\n",
       "      <th>81669</th>\n",
       "      <td>黄sir</td>\n",
       "      <td>这个事实上答主春节刚从日本旅游回来还买了些化妆品不过仅限于去东京以东不过大家不知道注意过没日...</td>\n",
       "      <td>2017-02-12</td>\n",
       "    </tr>\n",
       "    <tr>\n",
       "      <th>81670</th>\n",
       "      <td>Siqi Xia (作者)</td>\n",
       "      <td>天呐请问哪些地方要注意不能去呢我还准备四五月份去玩来着去那玩还能吃海鲜那类吗现在日本零食已经...</td>\n",
       "      <td>2017-02-12</td>\n",
       "    </tr>\n",
       "    <tr>\n",
       "      <th>81671</th>\n",
       "      <td>荷喵</td>\n",
       "      <td>好厉害的分析啊</td>\n",
       "      <td>2017-02-12</td>\n",
       "    </tr>\n",
       "  </tbody>\n",
       "</table>\n",
       "<p>81672 rows × 3 columns</p>\n",
       "</div>"
      ],
      "text/plain": [
       "               author                                            content  \\\n",
       "0         心灵深处的呼唤1981  军粉姐姐V美帝同意就往美帝那边倒呀中国不同意战略安全与军控在线日本政府正式决定福岛核废水排海...   \n",
       "1             彭三岁的夫人呐                         福岛核废水57天可废掉半个太平洋他怎么不稀释了自己喝   \n",
       "2           Demiral28                             失语卡文课代表希望他的眼泪冲淡太平洋的核废水   \n",
       "3                 言小鸢  从麦穗没弯腰写起网购的猫草种子据说是麦籽儿一袋小麦一袋大麦它边被我采摘与猫啃咬边顽强地成长现...   \n",
       "4              手藝人陳大鍋  福岛核废水57天可废掉半个太平洋真的很可怕海洋动物到底做错啥子要承受这些日本人大概率是疯了吧...   \n",
       "...               ...                                                ...   \n",
       "81667            知乎用户                              我一个准备去加国留学的看完心里怕怕的惜命_   \n",
       "81668            L-清源                                       如果短期旅游有什么影响吗   \n",
       "81669            黄sir  这个事实上答主春节刚从日本旅游回来还买了些化妆品不过仅限于去东京以东不过大家不知道注意过没日...   \n",
       "81670  Siqi Xia (作者)   天呐请问哪些地方要注意不能去呢我还准备四五月份去玩来着去那玩还能吃海鲜那类吗现在日本零食已经...   \n",
       "81671              荷喵                                            好厉害的分析啊   \n",
       "\n",
       "               time  \n",
       "0      04月13日 23:59  \n",
       "1      04月13日 23:59  \n",
       "2      04月13日 23:59  \n",
       "3      04月13日 23:59  \n",
       "4      04月13日 23:59  \n",
       "...             ...  \n",
       "81667    2017-02-13  \n",
       "81668    2017-02-13  \n",
       "81669    2017-02-12  \n",
       "81670    2017-02-12  \n",
       "81671    2017-02-12  \n",
       "\n",
       "[81672 rows x 3 columns]"
      ]
     },
     "execution_count": 39,
     "metadata": {},
     "output_type": "execute_result"
    }
   ],
   "source": [
    "import numpy as np\n",
    "dfN['content'].replace(\"\",np.nan,inplace=True)\n",
    "dfN=dfN.dropna(axis=0, subset= ['content']).dropna(axis=0,subset=['author'])\n",
    "dfN.reset_index(drop=True,inplace=True) #drop=True：删除原行索引；inplace=True:在数据上进行更新\n",
    "dfN"
   ]
  },
  {
   "cell_type": "code",
   "execution_count": 28,
   "metadata": {},
   "outputs": [
    {
     "data": {
      "text/html": [
       "<div>\n",
       "<style scoped>\n",
       "    .dataframe tbody tr th:only-of-type {\n",
       "        vertical-align: middle;\n",
       "    }\n",
       "\n",
       "    .dataframe tbody tr th {\n",
       "        vertical-align: top;\n",
       "    }\n",
       "\n",
       "    .dataframe thead th {\n",
       "        text-align: right;\n",
       "    }\n",
       "</style>\n",
       "<table border=\"1\" class=\"dataframe\">\n",
       "  <thead>\n",
       "    <tr style=\"text-align: right;\">\n",
       "      <th></th>\n",
       "      <th>author</th>\n",
       "      <th>content</th>\n",
       "      <th>time</th>\n",
       "    </tr>\n",
       "  </thead>\n",
       "  <tbody>\n",
       "    <tr>\n",
       "      <th>72687</th>\n",
       "      <td>ChineseTea</td>\n",
       "      <td>为什么之前要后来不要了</td>\n",
       "      <td>04-22</td>\n",
       "    </tr>\n",
       "  </tbody>\n",
       "</table>\n",
       "</div>"
      ],
      "text/plain": [
       "           author      content   time\n",
       "72687  ChineseTea  为什么之前要后来不要了  04-22"
      ]
     },
     "execution_count": 28,
     "metadata": {},
     "output_type": "execute_result"
    }
   ],
   "source": [
    "dfN[dfN['content'] == '为什么之前要后来不要了']"
   ]
  }
 ],
 "metadata": {
  "kernelspec": {
   "display_name": "Python 3",
   "language": "python",
   "name": "python3"
  },
  "language_info": {
   "codemirror_mode": {
    "name": "ipython",
    "version": 3
   },
   "file_extension": ".py",
   "mimetype": "text/x-python",
   "name": "python",
   "nbconvert_exporter": "python",
   "pygments_lexer": "ipython3",
   "version": "3.8.5"
  }
 },
 "nbformat": 4,
 "nbformat_minor": 1
}