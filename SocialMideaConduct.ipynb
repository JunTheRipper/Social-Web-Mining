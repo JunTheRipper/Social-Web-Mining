{
 "cells": [
  {
   "cell_type": "markdown",
   "metadata": {},
   "source": [
    "# 社交媒体网络技术处理 —— 社交网络评论/博客模块\n",
    "\n",
    "在本次的相关技术领域，我们尝试对项目结构进行模块化，用json格式文件进行读取，大致流程如下\n",
    "\n",
    "先读一下 json\n",
    "\n",
    "# 0 准备"
   ]
  },
  {
   "cell_type": "code",
   "execution_count": 1,
   "metadata": {
    "pycharm": {
     "name": "#%%\n"
    }
   },
   "outputs": [
    {
     "data": {
      "text/plain": [
       "'核废水'"
      ]
     },
     "execution_count": 1,
     "metadata": {},
     "output_type": "execute_result"
    }
   ],
   "source": [
    "import json\n",
    "with open(\"intro.json\",\"r\",encoding=\"utf-8\") as f:\n",
    "    json_data = json.load(f)\n",
    "username = json_data['username']\n",
    "password = json_data['password']\n",
    "webdriver_path = json_data['chrome_driver_location']\n",
    "useremail = json_data['useremail']\n",
    "data_store_location = json_data['data_store_location']\n",
    "result_analyse_location = json_data['result_analyse_location']\n",
    "result_picture = json_data['result_picture']\n",
    "keyword = json_data['keyword']\n",
    "keyword"
   ]
  },
  {
   "cell_type": "markdown",
   "metadata": {
    "pycharm": {
     "name": "#%% md\n"
    }
   },
   "source": [
    "## 1. 数据爬取\n",
    "\n",
    "可自行选定社交媒体网站，例如豆瓣，微博，知乎，微信公众号，今日头条等等，\n",
    "\n",
    "爬取小组选定分析主题相关的社交媒体文本评论数据（要求至少爬取10万条数据，请添加具体实现步骤、运行结果和相关截图）（1分）\n",
    "\n",
    "我们通过面向对象式写法实现跨模块的调用技术"
   ]
  },
  {
   "cell_type": "code",
   "execution_count": null,
   "metadata": {
    "pycharm": {
     "name": "#%%\n"
    }
   },
   "outputs": [],
   "source": [
    "from webSpyder.toutiaoSpyder import ToutiaoSpyder\n",
    "toutiao = ToutiaoSpyder(webdriver_path,keyword)\n",
    "toutiao.enter_key()\n",
    "toutiao.getSpyNews()\n",
    "toutiao.getSpyMicro()\n",
    "toutiao.store_mongoDB()\n",
    "\n",
    "# 知乎同理，进行数据获取时用到，爬取相关的评论和文章\n",
    "from webSpyder.zhihuSpyder import ZhiHuSpyder\n",
    "zhihu = ZhiHuSpyder(webdriver_path)\n",
    "zhihu.getComments()\n",
    "zhihu.getSpyContent()\n",
    "\n",
    "# 其他模型不再赘述"
   ]
  },
  {
   "cell_type": "markdown",
   "metadata": {
    "pycharm": {
     "name": "#%% md\n"
    }
   },
   "source": [
    "## 爬取数据预处理\n",
    "\n",
    "#### 1. 格式文本统一化\n",
    "\n",
    "我们的数据来源比较复杂，有来着知乎、头条、微博的数据，存储格式也大有不同，\n",
    "因此我们需要进行所有的数据归一化，同时执行相关的预处理操作\n",
    "\n",
    "预处理模块的代码参考dataProcessing.py ，包括内部的一系列情况"
   ]
  },
  {
   "cell_type": "code",
   "execution_count": 3,
   "metadata": {
    "pycharm": {
     "name": "#%%\n"
    }
   },
   "outputs": [
    {
     "name": "stdout",
     "output_type": "stream",
     "text": [
      "(18611, 12)\n",
      "(130186, 4)\n",
      "(55924, 13)\n",
      "whole raw data:  204721\n"
     ]
    }
   ],
   "source": [
    "import pandas as pd\n",
    "import dataProcessing as dp\n",
    "\n",
    "excelData = data_store_location+'/excelData'\n",
    "mongoData = data_store_location+'/mongoData'\n",
    "otherData = data_store_location+'/otherData'\n",
    "\n",
    "excel = dp.multi_excel_combine(excelData)\n",
    "mongo = dp.multi_csv_combine(mongoData)\n",
    "other = dp.multi_csv_combine(otherData)\n",
    "print(excel.shape)\n",
    "print(mongo.shape)\n",
    "print(other.shape)\n",
    "print(\"whole raw data: \",excel.shape[0]+mongo.shape[0]+other.shape[0])"
   ]
  },
  {
   "cell_type": "markdown",
   "source": [
    "可以看到未处理原始评论数据集有20w条左右，下面对这些数据进行处理整合"
   ],
   "metadata": {
    "collapsed": false,
    "pycharm": {
     "name": "#%% md\n"
    }
   }
  },
  {
   "cell_type": "code",
   "execution_count": null,
   "metadata": {
    "pycharm": {
     "name": "#%%\n"
    }
   },
   "outputs": [],
   "source": [
    "import pandas as pd\n",
    "\n",
    "data = pd.read_csv(\"results/random-right/emotion_label.csv\")\n",
    "data.head(100)\n",
    "data\n",
    "# data['emotion_score'].to_frame().describe()\n",
    "\n",
    "\n"
   ]
  }
 ],
 "metadata": {
  "kernelspec": {
   "display_name": "Python 3",
   "language": "python",
   "name": "python3"
  },
  "language_info": {
   "codemirror_mode": {
    "name": "ipython",
    "version": 3
   },
   "file_extension": ".py",
   "mimetype": "text/x-python",
   "name": "python",
   "nbconvert_exporter": "python",
   "pygments_lexer": "ipython3",
   "version": "3.8.5"
  }
 },
 "nbformat": 4,
 "nbformat_minor": 1
}